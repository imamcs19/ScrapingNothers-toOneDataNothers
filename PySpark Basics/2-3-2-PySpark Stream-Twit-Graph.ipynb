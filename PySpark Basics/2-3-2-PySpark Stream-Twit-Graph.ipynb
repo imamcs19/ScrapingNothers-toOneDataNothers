{
 "cells": [
  {
   "cell_type": "markdown",
   "metadata": {},
   "source": [
    "<img src=\"img/header1.png\"></img>"
   ]
  },
  {
   "cell_type": "markdown",
   "metadata": {},
   "source": [
    "<h1 style=\"text-align: left;\">ToT: PySpark Basics to Inter./Adv. in ± 15 Minutes</h1>\n",
    "By: Imam Cholissodin | Dosen Fakultas Ilmu Komputer (FILKOM), Universitas Brawijaya (UB)"
   ]
  },
  {
   "cell_type": "markdown",
   "metadata": {},
   "source": [
    "# **PySpark Streaming**: getTweetStreaming untuk Analisis Tren secara Real Time"
   ]
  },
  {
   "cell_type": "code",
   "execution_count": 2,
   "metadata": {},
   "outputs": [],
   "source": [
    "from pyspark.sql import SparkSession\n",
    "\n",
    "spark = SparkSession.\\\n",
    "        builder.\\\n",
    "        appName(\"pyspark-stream-hist\").\\\n",
    "        master(\"spark://spark-master:7077\").\\\n",
    "        config(\"spark.executor.memory\", \"512m\").\\\n",
    "        getOrCreate()\n",
    "\n",
    "sc = spark.sparkContext"
   ]
  },
  {
   "cell_type": "code",
   "execution_count": 3,
   "metadata": {},
   "outputs": [],
   "source": [
    "#!pip install matplotlib\n",
    "#!pip install seaborn"
   ]
  },
  {
   "cell_type": "code",
   "execution_count": 4,
   "metadata": {},
   "outputs": [
    {
     "data": {
      "image/png": "[encoded data removed]",
      "text/plain": [
       "<Figure size 720x576 with 1 Axes>"
      ]
     },
     "metadata": {
      "needs_background": "light"
     },
     "output_type": "display_data"
    }
   ],
   "source": [
    "from pyspark import SparkContext\n",
    "from pyspark.streaming import StreamingContext\n",
    "from pyspark.sql import SQLContext\n",
    "from pyspark.sql.functions import desc\n",
    "\n",
    "# Not required if running in Pyspark integrated notebooksc = SparkContext()\n",
    "\n",
    "sc.setLogLevel('ERROR')\n",
    "# ssc = spark streaming context dengan interval waktu proses 10 detik\n",
    "ssc = StreamingContext(sc, 10)\n",
    "sqlContext = SQLContext(sc)\n",
    "\n",
    "# set untuk client pada socketStream\n",
    "socket_stream = ssc.socketTextStream(\"54.208.1.149\",8501)\n",
    "\n",
    "lines = socket_stream.window(20)\n",
    "\n",
    "from collections import namedtuple\n",
    "fields = (\"tag\",\"count\")\n",
    "Tweet = namedtuple('Tweet', fields)\n",
    "\n",
    "# use () for multiple lines\n",
    "(lines.flatMap(lambda text: text.split(\" \"))\n",
    ".filter(lambda word: word.startswith(\"#\"))\n",
    ".map(lambda word: (word.lower(), 1))\n",
    ".reduceByKey(lambda a, b : a + b)\n",
    ".map(lambda rec: Tweet(rec[0],rec[1]))\n",
    ".foreachRDD(lambda rdd: rdd.toDF().sort(desc(\"count\"))\n",
    ".limit(10).registerTempTable(\"tweets\")))\n",
    "\n",
    "\n",
    "import time\n",
    "from IPython import display\n",
    "import matplotlib.pyplot as plt\n",
    "import seaborn as sns\n",
    "import pandas\n",
    "# get_ipython().run_line_magic('matplotlib', 'inline')\n",
    "\n",
    "ssc.start()\n",
    "\n",
    "count = 0\n",
    "while count < 10:\n",
    "    time.sleep(10)\n",
    "    top_10_tweets = sqlContext.sql(\"select tag,count from tweets\")\n",
    "    top_10_df = top_10_tweets.toPandas()\n",
    "    display.clear_output(wait = True)\n",
    "    plt.figure(figsize= (10, 8))\n",
    "    sns.barplot(x=\"count\", y=\"tag\",data=top_10_df)\n",
    "    plt.show()\n",
    "    count = count+1\n",
    "ssc.stop()"
   ]
  }
 ],
 "metadata": {
  "kernelspec": {
   "display_name": "Python 3",
   "language": "python",
   "name": "python3"
  },
  "language_info": {
   "codemirror_mode": {
    "name": "ipython",
    "version": 3
   },
   "file_extension": ".py",
   "mimetype": "text/x-python",
   "name": "python",
   "nbconvert_exporter": "python",
   "pygments_lexer": "ipython3",
   "version": "3.7.3"
  }
 },
 "nbformat": 4,
 "nbformat_minor": 4
}
