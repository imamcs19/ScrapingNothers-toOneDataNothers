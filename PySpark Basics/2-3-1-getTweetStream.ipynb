{
 "cells": [
  {
   "cell_type": "markdown",
   "metadata": {},
   "source": [
    "<img src=\"img/header1.png\"></img>"
   ]
  },
  {
   "cell_type": "markdown",
   "metadata": {},
   "source": [
    "<h1 style=\"text-align: left;\">ToT: PySpark Basics to Inter./Adv. in ± 15 Minutes</h1>\n",
    "By: Imam Cholissodin | Dosen Fakultas Ilmu Komputer (FILKOM), Universitas Brawijaya (UB)"
   ]
  },
  {
   "cell_type": "markdown",
   "metadata": {},
   "source": [
    "# **getTweetStreaming**: getTweet by TCP Socket Stream"
   ]
  },
  {
   "cell_type": "code",
   "execution_count": 1,
   "metadata": {},
   "outputs": [],
   "source": [
    "# install dan import library tweep\n",
    "#!pip install tweepy"
   ]
  },
  {
   "cell_type": "code",
   "execution_count": null,
   "metadata": {},
   "outputs": [],
   "source": [
    "from tweepy import OAuthHandler, API, Stream\n",
    "from tweepy.streaming import StreamListener\n",
    "import socket\n",
    "\n",
    "tracks = ['covid-19','indonesia','jokowi','prabowo','bossman','gusbaha'] # The topics of tweets to receive\n",
    "host   = \"0.0.0.0\"       # set untuk server pada socketStream\n",
    "\n",
    "consumer_key = 'JEj5tRSA9JWjWV6imMOrUIVWV'\n",
    "consumer_secret = '7MEa00KHpUbjxble8pdlV74qPbvW2OHqLtjt45QQraJaAzRmAh'\n",
    "access_token = '935208713551364097-W9Oy0IS2M1dRUQS5MZ6Dnz18BkHUP80'\n",
    "access_secret = 'jCANa7K7werTP2X1mnLlcRBFDHAJt9TZSCbC77FSNCj50'\n",
    "\n",
    "## Define Class Listener\n",
    "# 1. Listening Stream via StreamListener\n",
    "# 2. Create function (init) untuk inisialisasi socket\n",
    "# 3. Data berupa tweet dengan format json yang berasal dari proses Stream\n",
    "# 4. File json tersebut pada field status \"text\" bersisi aktual tweet\n",
    "# 5. Lalu aktual tweet diekstrak dan dikirim ke client socket\n",
    "# 6. Dilengkapi error handling dlm bentuk catch dan throw error\n",
    "\n",
    "class Listener(StreamListener):\n",
    "\n",
    "    def __init__(self, csocket, api):\n",
    "        self.client_socket = csocket\n",
    "        self.api = api\n",
    " \n",
    "    def on_status(self, status):\n",
    "        \"\"\" handles the incoming tweets by first filtering and then forward to\n",
    "        socket.\n",
    "\n",
    "        inputs:\n",
    "        -------\n",
    "        - status: the in-coming tweet object itself with many attributes all \n",
    "            stored in JSON format. For more attributes of tweet object, -> \n",
    "            <https://developer.twitter.com/en/docs/tweets/data-dictionary/\n",
    "            overview/tweet-object>\n",
    "        \"\"\"\n",
    "        # discards the tweets that are either truncated or not in english\n",
    "        # if status.truncated or status.lang != \"en\": return\n",
    "\n",
    "        # reads the text attribute of status object\n",
    "        # forward to the client socket provided\n",
    "        try:\n",
    "            if status.text != '':\n",
    "                tmsg = status.text.encode('utf-8')    # encode\n",
    "                self.client_socket.send(tmsg)\n",
    "            return True\n",
    "        # if an exception occurred between connection with spark like broken\n",
    "        # pipe, stop pulling tweets\n",
    "        except BaseException as e:\n",
    "            print(\"Error on_status: %s\" % str(e))\n",
    "            return False\n",
    "\n",
    "        return True\n",
    " \n",
    "    def on_error(self, status):\n",
    "        \"\"\" if there is an error occured between connection with tweepy, stop\n",
    "        pulling tweets.\n",
    "        \"\"\"\n",
    "        print(status)\n",
    "        return False\n",
    "\n",
    "\n",
    "def sendData(c_socket=None):\n",
    "    # set up api and authorization for receiving tweets\n",
    "    auth = OAuthHandler(consumer_key, consumer_secret)\n",
    "    auth.set_access_token(access_token, access_secret)\n",
    "    api = API(auth)\n",
    " \n",
    "    print(\"sending tweets...\")\n",
    "    \n",
    "    # receive tweets on assigned tracks, \n",
    "    # filter them by assigned conditions and send them to port\n",
    "    twitter_stream = Stream(auth, Listener(c_socket, api))\n",
    "    # twitter_stream.filter(lang=[\"en\"],track=tracks)\n",
    "    twitter_stream.filter(track=tracks,languages=[\"id\",\"en\"])\n",
    "    \n",
    "    \n",
    "## Create Socket\n",
    "# 1. Socket dibuat menggunakan socket function\n",
    "# 2. Host socket di local instance (VM) di AWS dengan IP 0.0.0.0 dimana jupyterlab running pada port tertentu\n",
    "# 3. Port rekomendasi yang digunakan adalah 8501\n",
    "# 4. Lalu gunakan IP host dan port tersebut untuk socket\n",
    "\n",
    "if __name__ == \"__main__\":\n",
    "\n",
    "    s = socket.socket()     # initial a socket object\n",
    "    s.setsockopt(socket.SOL_SOCKET, socket.SO_REUSEADDR, 1)\n",
    "    \n",
    "    # set 8501 ini sesuai dengan open port yang saya set pada file \n",
    "    # docker-compose.yml pada bagian jupyterlab, Andapun bisa mengubahnya\n",
    "    # ref: https://raw.githubusercontent.com/imamcs19/edubig-spark-standalone-cluster-and-support-streamlit-port-on-docker/master/docker-compose.yml\n",
    "    # \n",
    "    s.bind((host, 8501))    # bind to the port connected with Spark\n",
    " \n",
    "    print(\"Listening on port: 8501\")\n",
    " \n",
    "    s.listen(5)             # Now wait for client connection.\n",
    "    c, addr = s.accept()    # Establish connection with client.\n",
    " \n",
    "    print(\"Received request from: \" + str(addr))\n",
    " \n",
    "    sendData(c_socket=c)\n"
   ]
  }
 ],
 "metadata": {
  "kernelspec": {
   "display_name": "Python 3",
   "language": "python",
   "name": "python3"
  },
  "language_info": {
   "codemirror_mode": {
    "name": "ipython",
    "version": 3
   },
   "file_extension": ".py",
   "mimetype": "text/x-python",
   "name": "python",
   "nbconvert_exporter": "python",
   "pygments_lexer": "ipython3",
   "version": "3.7.3"
  }
 },
 "nbformat": 4,
 "nbformat_minor": 4
}
