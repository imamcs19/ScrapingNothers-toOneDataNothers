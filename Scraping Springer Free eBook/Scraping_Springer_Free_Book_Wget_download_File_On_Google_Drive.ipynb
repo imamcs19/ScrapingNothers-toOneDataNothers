{
  "nbformat": 4,
  "nbformat_minor": 0,
  "metadata": {
    "colab": {
      "name": "Scraping Springer Free Book Wget-download File On Google Drive.ipynb",
      "provenance": [],
      "collapsed_sections": []
    },
    "kernelspec": {
      "name": "python3",
      "display_name": "Python 3"
    }
  },
  "cells": [
    {
      "cell_type": "code",
      "metadata": {
        "id": "CIQvYXE2vYD3",
        "colab_type": "code",
        "colab": {}
      },
      "source": [
        "# ============================\n",
        "# By: Imam Cholissodin | imamcs@ub.ac.id\n",
        "# Fakultas Ilmu Komputer (Filkom)\n",
        "# Universitas Brawijaya (UB)\n",
        "# Tgl 26 April 2020\n",
        "# Semoga Bermanfaat. Aamiin :D\n",
        "# ====================================\n",
        "from google.colab import drive\n",
        "drive.mount('/content/drive')"
      ],
      "execution_count": 0,
      "outputs": []
    },
    {
      "cell_type": "code",
      "metadata": {
        "id": "BO1WE-TSwCla",
        "colab_type": "code",
        "colab": {
          "base_uri": "https://localhost:8080/",
          "height": 54
        },
        "outputId": "bfa92582-1431-44d6-fb28-4056c382ce8a"
      },
      "source": [
        "import os\n",
        "!pwd\n",
        "os.chdir(\"/content/drive/My Drive\")\n",
        "!pwd"
      ],
      "execution_count": 9,
      "outputs": [
        {
          "output_type": "stream",
          "text": [
            "/content\n",
            "/content/drive/My Drive\n"
          ],
          "name": "stdout"
        }
      ]
    },
    {
      "cell_type": "code",
      "metadata": {
        "id": "aMVucfIFwO4R",
        "colab_type": "code",
        "colab": {}
      },
      "source": [
        "#!mkdir Springer_Free_Books\n",
        "os.chdir(\"/content/drive/My Drive/Springer_Free_Books\")"
      ],
      "execution_count": 0,
      "outputs": []
    },
    {
      "cell_type": "code",
      "metadata": {
        "id": "WqgPKyShvNB6",
        "colab_type": "code",
        "colab": {
          "base_uri": "https://localhost:8080/",
          "height": 35
        },
        "outputId": "f742efcc-b016-4b2c-cbb3-0f0650ba7506"
      },
      "source": [
        "!pwd "
      ],
      "execution_count": 23,
      "outputs": [
        {
          "output_type": "stream",
          "text": [
            "/content/drive/My Drive/Springer_Free_Books\n"
          ],
          "name": "stdout"
        }
      ]
    },
    {
      "cell_type": "code",
      "metadata": {
        "id": "ykXEAU2UvS2X",
        "colab_type": "code",
        "colab": {
          "base_uri": "https://localhost:8080/",
          "height": 147
        },
        "outputId": "ae8944ea-7666-444b-b689-39b11f1f390a"
      },
      "source": [
        "#install selenium\n",
        "!pip install selenium"
      ],
      "execution_count": 9,
      "outputs": [
        {
          "output_type": "stream",
          "text": [
            "Collecting selenium\n",
            "\u001b[?25l  Downloading https://files.pythonhosted.org/packages/80/d6/4294f0b4bce4de0abf13e17190289f9d0613b0a44e5dd6a7f5ca98459853/selenium-3.141.0-py2.py3-none-any.whl (904kB)\n",
            "\u001b[K     |████████████████████████████████| 911kB 2.8MB/s \n",
            "\u001b[?25hRequirement already satisfied: urllib3 in /usr/local/lib/python3.6/dist-packages (from selenium) (1.24.3)\n",
            "Installing collected packages: selenium\n",
            "Successfully installed selenium-3.141.0\n"
          ],
          "name": "stdout"
        }
      ]
    },
    {
      "cell_type": "code",
      "metadata": {
        "id": "9OkMo_9LvTTS",
        "colab_type": "code",
        "colab": {}
      },
      "source": [
        "#Import Library Python\n",
        "from selenium import webdriver\n",
        "import time\n",
        "import pandas as pd\n",
        "import urllib\n",
        "import ssl\n",
        "from bs4 import BeautifulSoup\n",
        "import numpy as np"
      ],
      "execution_count": 0,
      "outputs": []
    },
    {
      "cell_type": "code",
      "metadata": {
        "id": "jsLZl8XGxkom",
        "colab_type": "code",
        "colab": {}
      },
      "source": [
        "#!pip install selenium\n",
        "!apt-get update # to update ubuntu to correctly run apt install\n",
        "!apt install chromium-chromedriver\n",
        "!cp /usr/lib/chromium-browser/chromedriver /usr/bin\n",
        "import sys\n",
        "sys.path.insert(0,'/usr/lib/chromium-browser/chromedriver')"
      ],
      "execution_count": 0,
      "outputs": []
    },
    {
      "cell_type": "code",
      "metadata": {
        "id": "jT2TxhhRv6OG",
        "colab_type": "code",
        "colab": {
          "base_uri": "https://localhost:8080/",
          "height": 54
        },
        "outputId": "320e2f21-e20f-46bb-c0db-11caff5a03ea"
      },
      "source": [
        "from selenium import webdriver\n",
        "from selenium.webdriver.common.keys import Keys\n",
        "from selenium.webdriver.support.ui import WebDriverWait\n",
        "from selenium.webdriver.support import expected_conditions as EC\n",
        "from selenium.webdriver.common.by import By\n",
        "#import sys\n",
        "#chrome_options = webdriver.ChromeOptions()\n",
        "#from selenium.webdriver.firefox.options import Options as FirefoxOptions\n",
        "#from selenium.webdriver.chrome.options import Options as ChromeOptions\n",
        "\n",
        "def connectChrome():\n",
        "    #options = ChromeOptions()\n",
        "    chrome_options = webdriver.ChromeOptions()\n",
        "    chrome_options.add_argument(\"--headless\")\n",
        "    chrome_options.add_argument('--no-sandbox')\n",
        "    chrome_options.add_argument('--disable-dev-shm-usage')\n",
        "    chromeDriverPath = \"/usr/bin/chromedriver\"\n",
        "    #driver = webdriver.Chrome(executable_path=r'C:\\Users\\ImamCholissodin\\aOneScapingApp\\chromedriver_win32\\chromedriver.exe', options=chrome_options)\n",
        "    driver = webdriver.Chrome(executable_path=chromeDriverPath, options=chrome_options)\n",
        "    #driver = webdriver.Chrome(\"/home/USER_NAME/FOLDER/chromedriver\")\n",
        "    print(\"Chrome Headless Browser Invoked\")\n",
        "    return driver\n",
        "\n",
        "def connectFirefox():\n",
        "    #options = FirefoxOptions()\n",
        "    firefox_options = webdriver.FirefoxOptions()\n",
        "    firefox_options.add_argument(\"--headless\")\n",
        "    firefox_options.add_argument('--no-sandbox')\n",
        "    firefox_options.add_argument('--disable-dev-shm-usage')\n",
        "    #chromeDriverPath = \"/usr/bin/chromedriver\"\n",
        "    #driver = webdriver.Firefox(executable_path=r'C:\\Users\\ImamCholissodin\\aOneScapingApp\\geckodriver-v0.26.0-win64\\geckodriver.exe',options=firefox_options)\n",
        "    driver = webdriver.Firefox()\n",
        "    print(\"Firefox Headless Browser Invoked\")\n",
        "    return driver\n",
        "\n",
        "def main():\n",
        "    driver = connectChrome()\n",
        "    #driver = connectFirefox()\n",
        "    driver.get(\"https://link.springer.com/\")\n",
        "    print(\"Headless Browser closing\")\n",
        "    driver.quit()\n",
        "#------------------------------------------------------------------------#\n",
        "main()"
      ],
      "execution_count": 34,
      "outputs": [
        {
          "output_type": "stream",
          "text": [
            "Chrome Headless Browser Invoked\n",
            "Headless Browser closing\n"
          ],
          "name": "stdout"
        }
      ]
    },
    {
      "cell_type": "code",
      "metadata": {
        "id": "vdj3kas9ycpM",
        "colab_type": "code",
        "colab": {
          "base_uri": "https://localhost:8080/",
          "height": 35
        },
        "outputId": "4b2f4c7e-3f8c-4960-a924-d90a055e7aed"
      },
      "source": [
        "!pwd"
      ],
      "execution_count": 35,
      "outputs": [
        {
          "output_type": "stream",
          "text": [
            "/content/drive/My Drive/Springer_Free_Books\n"
          ],
          "name": "stdout"
        }
      ]
    },
    {
      "cell_type": "code",
      "metadata": {
        "id": "nTh0IZdTygvB",
        "colab_type": "code",
        "colab": {
          "resources": {
            "http://localhost:8080/nbextensions/google.colab/files.js": {
              "data": "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",
              "ok": true,
              "headers": [
                [
                  "content-type",
                  "application/javascript"
                ]
              ],
              "status": 200,
              "status_text": "OK"
            }
          },
          "base_uri": "https://localhost:8080/",
          "height": 77
        },
        "outputId": "1dd86b15-50ac-4e81-a444-c7d060b33b89"
      },
      "source": [
        "#upload file html\n",
        "from google.colab import files\n",
        "uploaded = files.upload()"
      ],
      "execution_count": 17,
      "outputs": [
        {
          "output_type": "display_data",
          "data": {
            "text/html": [
              "\n",
              "     <input type=\"file\" id=\"files-f760b87c-aa9d-40f7-9c05-ad0ced312e23\" name=\"files[]\" multiple disabled />\n",
              "     <output id=\"result-f760b87c-aa9d-40f7-9c05-ad0ced312e23\">\n",
              "      Upload widget is only available when the cell has been executed in the\n",
              "      current browser session. Please rerun this cell to enable.\n",
              "      </output>\n",
              "      <script src=\"/nbextensions/google.colab/files.js\"></script> "
            ],
            "text/plain": [
              "<IPython.core.display.HTML object>"
            ]
          },
          "metadata": {
            "tags": []
          }
        },
        {
          "output_type": "stream",
          "text": [
            "Saving List Springer Ebooks.html to List Springer Ebooks.html\n"
          ],
          "name": "stdout"
        }
      ]
    },
    {
      "cell_type": "code",
      "metadata": {
        "id": "gHQQwwWryqPi",
        "colab_type": "code",
        "colab": {
          "base_uri": "https://localhost:8080/",
          "height": 72
        },
        "outputId": "e8e59e79-8a96-49e6-8461-e32f7efdd7d1"
      },
      "source": [
        "!ls -l -a --block-size=K"
      ],
      "execution_count": 19,
      "outputs": [
        {
          "output_type": "stream",
          "text": [
            "total 800K\n",
            "-rw------- 1 root root   0K Apr 25 23:52  geckodriver.log\n",
            "-rw------- 1 root root 800K Apr 26 00:04 'List Springer Ebooks.html'\n"
          ],
          "name": "stdout"
        }
      ]
    },
    {
      "cell_type": "code",
      "metadata": {
        "id": "YxXi5XchyqiD",
        "colab_type": "code",
        "colab": {
          "base_uri": "https://localhost:8080/",
          "height": 35
        },
        "outputId": "012e2d46-dbcb-435b-805b-3e994e7f9c03"
      },
      "source": [
        "#Baca file List Springer Ebooks.html\n",
        "from bs4 import BeautifulSoup\n",
        "import urllib.request\n",
        "\n",
        "url = \"List Springer Ebooks.html\"\n",
        "\n",
        "if url.startswith('http'):\n",
        "    html_page = urlopen(url).read()\n",
        "else:\n",
        "    html_page = open(url)\n",
        "\n",
        "soup = BeautifulSoup(html_page, \"html.parser\")\n",
        "\n",
        "# tampung link\n",
        "list_link =[]\n",
        "for link in soup.findAll('a'):\n",
        "    list_link.append(link.get('href'))\n",
        "    #print(link.get('href'))\n",
        "\n",
        "print(len(list_link))\n",
        "\n",
        "#from IPython.display import IFrame\n",
        "#IFrame(src='List Springer Ebooks.html', width=190, height=160)\n",
        "\n",
        "#file_html = "
      ],
      "execution_count": 36,
      "outputs": [
        {
          "output_type": "stream",
          "text": [
            "408\n"
          ],
          "name": "stdout"
        }
      ]
    },
    {
      "cell_type": "code",
      "metadata": {
        "id": "0ezcHDhFDUvw",
        "colab_type": "code",
        "colab": {
          "base_uri": "https://localhost:8080/",
          "height": 35
        },
        "outputId": "46573913-a43a-4b33-a2f6-adc4eaa513b7"
      },
      "source": [
        "print(list_link[0])"
      ],
      "execution_count": 21,
      "outputs": [
        {
          "output_type": "stream",
          "text": [
            "http://link.springer.com/openurl?genre=book&isbn=978-0-306-48048-5\n"
          ],
          "name": "stdout"
        }
      ]
    },
    {
      "cell_type": "code",
      "metadata": {
        "id": "So6fboMpzYXA",
        "colab_type": "code",
        "colab": {}
      },
      "source": [
        "# Get link href full page dari 408 home link tersebut (yang besisi full page dan non full page)\n",
        "#for each_list_link in list_link:\n",
        "    #list_link_full_page = each_list_link.find('a', {'class': 'c-button c-button--blue c-button__icon-right test-bookpdf-link'}).get('href')\n",
        "    #print('https://link.springer.com/'+list_link_full_page)\n",
        "\n",
        "driver = connectChrome()\n",
        "\n",
        "list_link_full_page = []\n",
        "list_judul_buku = []\n",
        "list_sub_judul_buku = []\n",
        "counter = 0\n",
        "#for each_list_link in list_link[116:118]:\n",
        "for each_list_link in list_link:\n",
        "    # navigate other page yg baru dapat diakses setelah login\n",
        "    driver.get(each_list_link)\n",
        "\n",
        "    #Sleep untuk menunggu loading data (delay 10 detik)\n",
        "    #SET_LOAD_TIME = 5\n",
        "    #time.sleep(SET_LOAD_TIME)\n",
        "    #print(\"Setelah delay 10 detik\")\n",
        "\n",
        "    soup_level2=BeautifulSoup(driver.page_source, 'lxml')\n",
        "\n",
        "    \n",
        "    #get_full_page_link = soup_level2.find(\"a\",class_=\"c-button c-button--blue c-button__icon-right test-bookpdf-link\") \n",
        "    #get_full_page_link = soup_level2.find(\"a\",title_=\"Download this book in PDF format\") \n",
        "    # Download this book in PDF format\n",
        "    \n",
        "    #print()\n",
        "    #print('each_list_link: ' + each_list_link)\n",
        "\n",
        "    #try:\n",
        "        # Try to get the CSRF token\n",
        "        #csrf = soup.find(id=\"csrfToken-postModuleForm\")['value']\n",
        "        #soup_level2.find('a', {'title': 'Download this book in PDF format'})\n",
        "    #except(TypeError, KeyError) as e:\n",
        "        # Token not found. Replace 'pass' with additional logic.\n",
        "    #    pass \n",
        "\n",
        "    #try:\n",
        "        #print link['href']\n",
        "    #    get_full_page_link = soup_level2.find('a', {'title': 'Download this book in PDF format'}).get('href')\n",
        "        #print('get_full_page_link ---:' + get_full_page_link)\n",
        "      \n",
        "    #except KeyError:\n",
        "    #    get_full_page_link = 'https://link.springer.com/#'\n",
        "    #    pass\n",
        "    \n",
        "    counter += 1  \n",
        "    #Get Judul Buku\n",
        "    if(soup_level2.find('div', {'class': 'page-title'}) is not None):\n",
        "        #get_judul_buku = soup_level2.find('div', {'class': 'page-title'}).text\n",
        "        get_judul_buku = soup_level2.find('div', {'class': 'page-title'}).find('h1').text\n",
        "        #get_judul_buku = get_judul_buku.rstrip('\\n')\n",
        "    else:\n",
        "        get_judul_buku = 'None'\n",
        "        #print(each_list_link + 'is None')  \n",
        "\n",
        "    #Get sub Judul Buku page-title__subtitle\n",
        "    if(soup_level2.find('h2', {'class': 'page-title__subtitle'}) is not None):\n",
        "        get_sub_judul_buku = soup_level2.find('h2', {'class': 'page-title__subtitle'}).text\n",
        "        #list_sub_judul_buku = get_judul_buku.rstrip('\\n')\n",
        "    else:\n",
        "        get_sub_judul_buku = 'None'\n",
        "        #print(each_list_link + 'is None')  \n",
        " \n",
        "    #Get link full page buku\n",
        "    if(soup_level2.find('a', {'title': 'Download this book in PDF format'}) is not None):\n",
        "        get_full_page_link = soup_level2.find('a', {'title': 'Download this book in PDF format'}).get('href')\n",
        "    else:\n",
        "        get_full_page_link = '/#' \n",
        "        #print(each_list_link + 'is None')\n",
        "    \n",
        "    #print('get_full_page_link:' + get_full_page_link)\n",
        "    #print('https://link.springer.com'+get_full_page_link)\n",
        "\n",
        "    # print('get_judul_buku: ' + get_judul_buku)\n",
        "    list_judul_buku.append(str(counter) + '_' + get_judul_buku)\n",
        "    # print('get_sub_judul_buku: ' + get_sub_judul_buku)\n",
        "    list_sub_judul_buku.append(get_sub_judul_buku)\n",
        "\n",
        "\n",
        "    list_link_full_page.append('https://link.springer.com'+get_full_page_link)\n",
        "\n",
        "#print(len(list_judul_buku))\n",
        "#print(len(list_link_full_page))\n",
        "\n",
        "print(list_judul_buku)\n",
        "print(list_sub_judul_buku)\n",
        "print(list_link_full_page)\n"
      ],
      "execution_count": 0,
      "outputs": []
    },
    {
      "cell_type": "code",
      "metadata": {
        "id": "eJ6IBHSdzXno",
        "colab_type": "code",
        "colab": {
          "base_uri": "https://localhost:8080/",
          "height": 72
        },
        "outputId": "8d7f8611-4447-4c6d-9541-70f9aab1d93b"
      },
      "source": [
        "print(len(list_judul_buku))\n",
        "print(len(list_sub_judul_buku))\n",
        "print(len(list_link_full_page))"
      ],
      "execution_count": 103,
      "outputs": [
        {
          "output_type": "stream",
          "text": [
            "408\n",
            "408\n",
            "408\n"
          ],
          "name": "stdout"
        }
      ]
    },
    {
      "cell_type": "code",
      "metadata": {
        "id": "lKeLXATHXS9a",
        "colab_type": "code",
        "colab": {
          "base_uri": "https://localhost:8080/",
          "height": 35
        },
        "outputId": "dc0e2950-a9ed-454b-8d3d-768e588c239c"
      },
      "source": [
        "os.chdir(\"/content/drive/My Drive/Springer_Free_Books\")\n",
        "!pwd"
      ],
      "execution_count": 105,
      "outputs": [
        {
          "output_type": "stream",
          "text": [
            "/content/drive/My Drive/Springer_Free_Books\n"
          ],
          "name": "stdout"
        }
      ]
    },
    {
      "cell_type": "code",
      "metadata": {
        "id": "S8B6MjrpUCQW",
        "colab_type": "code",
        "colab": {}
      },
      "source": [
        "#Buat Folder utk tampung hasil Dowload\n",
        "#!mkdir 'Hasil_Download_Springer_Free_Books_Dgn_Judul'"
      ],
      "execution_count": 0,
      "outputs": []
    },
    {
      "cell_type": "code",
      "metadata": {
        "id": "p-NkvfpdqECn",
        "colab_type": "code",
        "colab": {
          "base_uri": "https://localhost:8080/",
          "height": 90
        },
        "outputId": "b720a849-1336-4643-e1fd-9399f13498bf"
      },
      "source": [
        "!ls"
      ],
      "execution_count": 107,
      "outputs": [
        {
          "output_type": "stream",
          "text": [
            " geckodriver.log\n",
            " Hasil_Download_Springer_Free_Books\n",
            " Hasil_Download_Springer_Free_Books_Dgn_Judul\n",
            "'List Springer Ebooks.html'\n"
          ],
          "name": "stdout"
        }
      ]
    },
    {
      "cell_type": "code",
      "metadata": {
        "id": "JCeYRBFnK0_i",
        "colab_type": "code",
        "colab": {}
      },
      "source": [
        "os.chdir(\"/content/drive/My Drive/Springer_Free_Books/Hasil_Download_Springer_Free_Books_Dgn_Judul\")"
      ],
      "execution_count": 0,
      "outputs": []
    },
    {
      "cell_type": "code",
      "metadata": {
        "id": "C0o7O3uUXq9L",
        "colab_type": "code",
        "colab": {
          "base_uri": "https://localhost:8080/",
          "height": 55
        },
        "outputId": "008f6b9e-27ee-48ef-9eca-4ca0c77fae2b"
      },
      "source": [
        "!pwd"
      ],
      "execution_count": 109,
      "outputs": [
        {
          "output_type": "stream",
          "text": [
            "/content/drive/My Drive/Springer_Free_Books/Hasil_Download_Springer_Free_Books_Dgn_Judul\n"
          ],
          "name": "stdout"
        }
      ]
    },
    {
      "cell_type": "code",
      "metadata": {
        "id": "DyiXsa8DYber",
        "colab_type": "code",
        "colab": {
          "base_uri": "https://localhost:8080/",
          "height": 202
        },
        "outputId": "f7d49298-3759-4e9d-f300-2f063722b82c"
      },
      "source": [
        "!pip install wget"
      ],
      "execution_count": 79,
      "outputs": [
        {
          "output_type": "stream",
          "text": [
            "Collecting wget\n",
            "  Downloading https://files.pythonhosted.org/packages/47/6a/62e288da7bcda82b935ff0c6cfe542970f04e29c756b0e147251b2fb251f/wget-3.2.zip\n",
            "Building wheels for collected packages: wget\n",
            "  Building wheel for wget (setup.py) ... \u001b[?25l\u001b[?25hdone\n",
            "  Created wheel for wget: filename=wget-3.2-cp36-none-any.whl size=9682 sha256=90bbccb3a0a9d25a318e469ae3b13b19699fab008a5b0ad24e922a5732c60fc0\n",
            "  Stored in directory: /root/.cache/pip/wheels/40/15/30/7d8f7cea2902b4db79e3fea550d7d7b85ecb27ef992b618f3f\n",
            "Successfully built wget\n",
            "Installing collected packages: wget\n",
            "Successfully installed wget-3.2\n"
          ],
          "name": "stdout"
        }
      ]
    },
    {
      "cell_type": "code",
      "metadata": {
        "id": "7yFf3jexXrNx",
        "colab_type": "code",
        "colab": {}
      },
      "source": [
        "#Dowload\n",
        "import wget\n",
        "counter =0 \n",
        "#for direct_link_full_page in list_link_full_page[348:]:\n",
        "for direct_link_full_page in list_link_full_page: \n",
        "   print(counter)\n",
        "   print('direct_link_full_page:' + direct_link_full_page) \n",
        "   print('list_judul_buku['+str(counter)+']:' + list_judul_buku[counter] )\n",
        "   print()\n",
        "   #wget.download(direct_link_full_page ) \n",
        "   nama_file = list_judul_buku[counter].replace('/',' atau ')\n",
        "   wget.download(direct_link_full_page, nama_file+'.pdf') \n",
        "   counter +=1\n",
        "   \n",
        "\n",
        "print('Done :D')"
      ],
      "execution_count": 0,
      "outputs": []
    },
    {
      "cell_type": "code",
      "metadata": {
        "id": "y5txZnFvX3IP",
        "colab_type": "code",
        "colab": {}
      },
      "source": [
        "os.chdir(\"/content/drive/My Drive/Springer_Free_Books\")"
      ],
      "execution_count": 0,
      "outputs": []
    },
    {
      "cell_type": "code",
      "metadata": {
        "id": "khMRd9XJzG4h",
        "colab_type": "code",
        "colab": {
          "base_uri": "https://localhost:8080/",
          "height": 129
        },
        "outputId": "5f789045-9c6c-4c09-c0b0-1d42f377041f"
      },
      "source": [
        "!ls -l -a --block-size=M"
      ],
      "execution_count": 128,
      "outputs": [
        {
          "output_type": "stream",
          "text": [
            "total 1M\n",
            "-rw------- 1 root root 0M Apr 25 23:52  geckodriver.log\n",
            "drwx------ 2 root root 1M Apr 26 02:52  Hasil_Download_Springer_Free_Books\n",
            "drwx------ 3 root root 1M Apr 26 04:36  Hasil_Download_Springer_Free_Books_Dgn_Judul\n",
            "-rw------- 1 root root 1M Apr 26 00:04 'List Springer Ebooks.html'\n"
          ],
          "name": "stdout"
        }
      ]
    },
    {
      "cell_type": "code",
      "metadata": {
        "id": "Ndc_Z1dN0rHo",
        "colab_type": "code",
        "colab": {}
      },
      "source": [
        "!rm *.tar"
      ],
      "execution_count": 0,
      "outputs": []
    },
    {
      "cell_type": "code",
      "metadata": {
        "id": "Br1jNCt7y0rf",
        "colab_type": "code",
        "colab": {
          "base_uri": "https://localhost:8080/",
          "height": 1000
        },
        "outputId": "fd1a9e83-71b9-4bd9-ea8c-1dbe9d3071bb"
      },
      "source": [
        "# compress file\n",
        "!tar -cvf './Hasil_Download_Springer_Free_Books_Dgn_Judul.tar' './Hasil_Download_Springer_Free_Books_Dgn_Judul'"
      ],
      "execution_count": 129,
      "outputs": [
        {
          "output_type": "stream",
          "text": [
            "./Hasil_Download_Springer_Free_Books_Dgn_Judul/\n",
            "./Hasil_Download_Springer_Free_Books_Dgn_Judul/1_Fundamentals of Power Electronics.pdf\n",
            "./Hasil_Download_Springer_Free_Books_Dgn_Judul/2_Handbook of the Life Course.pdf\n",
            "./Hasil_Download_Springer_Free_Books_Dgn_Judul/.ipynb_checkpoints/\n",
            "./Hasil_Download_Springer_Free_Books_Dgn_Judul/3_All of Statistics.pdf\n",
            "./Hasil_Download_Springer_Free_Books_Dgn_Judul/4_Social Anxiety and Social Phobia in Youth.pdf\n",
            "./Hasil_Download_Springer_Free_Books_Dgn_Judul/5_Discrete Mathematics.pdf\n",
            "./Hasil_Download_Springer_Free_Books_Dgn_Judul/6_Developmental Neurobiology.pdf\n",
            "./Hasil_Download_Springer_Free_Books_Dgn_Judul/7_Intuitive Probability and Random Processes Using MATLAB®.pdf\n",
            "./Hasil_Download_Springer_Free_Books_Dgn_Judul/8_Handbook of Disaster Research.pdf\n",
            "./Hasil_Download_Springer_Free_Books_Dgn_Judul/9_Handbook of the Sociology of Gender.pdf\n",
            "./Hasil_Download_Springer_Free_Books_Dgn_Judul/10_Handbook of Sociological Theory.pdf\n",
            "./Hasil_Download_Springer_Free_Books_Dgn_Judul/11_Clinical Neuroanatomy: A Neurobehavioral Approach.pdf\n",
            "./Hasil_Download_Springer_Free_Books_Dgn_Judul/12_Acquired Brain Injury.pdf\n",
            "./Hasil_Download_Springer_Free_Books_Dgn_Judul/13_Numerical Optimization.pdf\n",
            "./Hasil_Download_Springer_Free_Books_Dgn_Judul/14_Handbook Of Biological Confocal Microscopy.pdf\n",
            "./Hasil_Download_Springer_Free_Books_Dgn_Judul/15_Ceramic Materials.pdf\n",
            "./Hasil_Download_Springer_Free_Books_Dgn_Judul/16_Principles of Fluorescence Spectroscopy.pdf\n",
            "./Hasil_Download_Springer_Free_Books_Dgn_Judul/17_Fundamentals of Biomechanics.pdf\n",
            "./Hasil_Download_Springer_Free_Books_Dgn_Judul/18_Primer on the Rheumatic Diseases.pdf\n",
            "./Hasil_Download_Springer_Free_Books_Dgn_Judul/19_International Handbook of Historical Archaeology.pdf\n",
            "./Hasil_Download_Springer_Free_Books_Dgn_Judul/20_Database Marketing.pdf\n",
            "./Hasil_Download_Springer_Free_Books_Dgn_Judul/21_Composite Materials.pdf\n",
            "./Hasil_Download_Springer_Free_Books_Dgn_Judul/22_Time Series Analysis.pdf\n",
            "./Hasil_Download_Springer_Free_Books_Dgn_Judul/23_Transmission Electron Microscopy.pdf\n",
            "./Hasil_Download_Springer_Free_Books_Dgn_Judul/24_Handbook of Quantitative Criminology.pdf\n",
            "./Hasil_Download_Springer_Free_Books_Dgn_Judul/25_Plant Physiological Ecology.pdf\n",
            "./Hasil_Download_Springer_Free_Books_Dgn_Judul/26_Introductory Statistics with R.pdf\n",
            "./Hasil_Download_Springer_Free_Books_Dgn_Judul/27_The Elements of Statistical Learning.pdf\n",
            "./Hasil_Download_Springer_Free_Books_Dgn_Judul/28_Psychology, Religion, and Spirituality.pdf\n",
            "./Hasil_Download_Springer_Free_Books_Dgn_Judul/29_Introductory Time Series with R.pdf\n",
            "./Hasil_Download_Springer_Free_Books_Dgn_Judul/30_Child Neuropsychology.pdf\n",
            "./Hasil_Download_Springer_Free_Books_Dgn_Judul/31_A Beginner’s Guide to R.pdf\n",
            "./Hasil_Download_Springer_Free_Books_Dgn_Judul/32_Geomorphology of Desert Environments.pdf\n",
            "./Hasil_Download_Springer_Free_Books_Dgn_Judul/33_The Joy of Science.pdf\n",
            "./Hasil_Download_Springer_Free_Books_Dgn_Judul/34_Fatigue of Structures and Materials.pdf\n",
            "./Hasil_Download_Springer_Free_Books_Dgn_Judul/35_Essential Astrophysics.pdf\n",
            "./Hasil_Download_Springer_Free_Books_Dgn_Judul/36_Introduction to Evolutionary Computing.pdf\n",
            "./Hasil_Download_Springer_Free_Books_Dgn_Judul/37_Data Analysis.pdf\n",
            "./Hasil_Download_Springer_Free_Books_Dgn_Judul/38_International Perspectives on Psychotherapy.pdf\n",
            "./Hasil_Download_Springer_Free_Books_Dgn_Judul/39_Electrical Machines.pdf\n",
            "./Hasil_Download_Springer_Free_Books_Dgn_Judul/40_Mechanics and Thermodynamics.pdf\n",
            "./Hasil_Download_Springer_Free_Books_Dgn_Judul/41_Applied Behavior Analysis.pdf\n",
            "./Hasil_Download_Springer_Free_Books_Dgn_Judul/42_Reading, Writing, and Proving.pdf\n",
            "./Hasil_Download_Springer_Free_Books_Dgn_Judul/43_Linear and Nonlinear Programming.pdf\n",
            "./Hasil_Download_Springer_Free_Books_Dgn_Judul/44_Introduction to Partial Differential Equations.pdf\n",
            "./Hasil_Download_Springer_Free_Books_Dgn_Judul/45_Energy Storage.pdf\n",
            "./Hasil_Download_Springer_Free_Books_Dgn_Judul/46_Metabolism of Human Diseases.pdf\n",
            "./Hasil_Download_Springer_Free_Books_Dgn_Judul/47_Sensory Evaluation of Food.pdf\n",
            "./Hasil_Download_Springer_Free_Books_Dgn_Judul/48_Fundamentals of Robotic Mechanical Systems.pdf\n",
            "./Hasil_Download_Springer_Free_Books_Dgn_Judul/49_Integrative Human Biochemistry.pdf\n",
            "./Hasil_Download_Springer_Free_Books_Dgn_Judul/50_Philosophy of Science for Scientists.pdf\n",
            "./Hasil_Download_Springer_Free_Books_Dgn_Judul/51_Particles and Nuclei.pdf\n",
            "./Hasil_Download_Springer_Free_Books_Dgn_Judul/52_Data Structures and Algorithms with Python.pdf\n",
            "./Hasil_Download_Springer_Free_Books_Dgn_Judul/53_LGBT-Parent Families.pdf\n",
            "./Hasil_Download_Springer_Free_Books_Dgn_Judul/54_Integrated Neuroscience.pdf\n",
            "./Hasil_Download_Springer_Free_Books_Dgn_Judul/55_Introduction to Partial Differential Equations.pdf\n",
            "./Hasil_Download_Springer_Free_Books_Dgn_Judul/56_Microeconomics.pdf\n",
            "./Hasil_Download_Springer_Free_Books_Dgn_Judul/57_System Dynamics.pdf\n",
            "./Hasil_Download_Springer_Free_Books_Dgn_Judul/58_Cosmology for the Curious.pdf\n",
            "./Hasil_Download_Springer_Free_Books_Dgn_Judul/59_Methods of Mathematical Modelling.pdf\n",
            "./Hasil_Download_Springer_Free_Books_Dgn_Judul/60_Introduction to Logic Circuits & Logic Design with Verilog.pdf\n",
            "./Hasil_Download_Springer_Free_Books_Dgn_Judul/61_Structural Analysis.pdf\n",
            "./Hasil_Download_Springer_Free_Books_Dgn_Judul/62_Engineering Flow and Heat Exchange.pdf\n",
            "./Hasil_Download_Springer_Free_Books_Dgn_Judul/63_Enterprise Risk Management Models.pdf\n",
            "./Hasil_Download_Springer_Free_Books_Dgn_Judul/64_Reactive Power Control in AC Power Systems.pdf\n",
            "./Hasil_Download_Springer_Free_Books_Dgn_Judul/65_Principles of Microeconomics.pdf\n",
            "./Hasil_Download_Springer_Free_Books_Dgn_Judul/66_Additive Manufacturing Technologies.pdf\n",
            "./Hasil_Download_Springer_Free_Books_Dgn_Judul/67_Principles of Physics.pdf\n",
            "./Hasil_Download_Springer_Free_Books_Dgn_Judul/68_Fundamentals of Biomechanics.pdf\n",
            "./Hasil_Download_Springer_Free_Books_Dgn_Judul/69_Irrigation and Drainage Engineering.pdf\n",
            "./Hasil_Download_Springer_Free_Books_Dgn_Judul/70_LaTeX in 24 Hours.pdf\n",
            "./Hasil_Download_Springer_Free_Books_Dgn_Judul/71_Psychology of Perception.pdf\n",
            "./Hasil_Download_Springer_Free_Books_Dgn_Judul/72_Extragalactic Astronomy and Cosmology.pdf\n",
            "./Hasil_Download_Springer_Free_Books_Dgn_Judul/73_Automata and Computability.pdf\n",
            "./Hasil_Download_Springer_Free_Books_Dgn_Judul/74_The Algorithm Design Manual.pdf\n",
            "./Hasil_Download_Springer_Free_Books_Dgn_Judul/75_Chemical Thermodynamics.pdf\n",
            "./Hasil_Download_Springer_Free_Books_Dgn_Judul/76_Computational Physics.pdf\n",
            "./Hasil_Download_Springer_Free_Books_Dgn_Judul/77_Introduction to Statistics and Data Analysis .pdf\n",
            "./Hasil_Download_Springer_Free_Books_Dgn_Judul/78_Grammar for Teachers.pdf\n",
            "./Hasil_Download_Springer_Free_Books_Dgn_Judul/79_Time Series Econometrics.pdf\n",
            "./Hasil_Download_Springer_Free_Books_Dgn_Judul/80_Electrochemistry.pdf\n",
            "./Hasil_Download_Springer_Free_Books_Dgn_Judul/81_Classical Fourier Analysis.pdf\n",
            "./Hasil_Download_Springer_Free_Books_Dgn_Judul/82_Human Chromosomes.pdf\n",
            "./Hasil_Download_Springer_Free_Books_Dgn_Judul/83_Phylogenomics.pdf\n",
            "./Hasil_Download_Springer_Free_Books_Dgn_Judul/84_Quantum Theory for Mathematicians.pdf\n",
            "./Hasil_Download_Springer_Free_Books_Dgn_Judul/85_Evidence-Based Critical Care.pdf\n",
            "./Hasil_Download_Springer_Free_Books_Dgn_Judul/86_Clinical Assessment of Child and Adolescent Personality and Behavior.pdf\n",
            "./Hasil_Download_Springer_Free_Books_Dgn_Judul/87_Design Research in Information Systems.pdf\n",
            "./Hasil_Download_Springer_Free_Books_Dgn_Judul/88_Intermediate Physics for Medicine and Biology.pdf\n",
            "./Hasil_Download_Springer_Free_Books_Dgn_Judul/89_Principles of Data Mining.pdf\n",
            "./Hasil_Download_Springer_Free_Books_Dgn_Judul/90_Fundamental Astronomy.pdf\n",
            "./Hasil_Download_Springer_Free_Books_Dgn_Judul/91_Fundamentals of Business Process Management.pdf\n",
            "./Hasil_Download_Springer_Free_Books_Dgn_Judul/92_Brownian Motion, Martingales, and Stochastic Calculus .pdf\n",
            "./Hasil_Download_Springer_Free_Books_Dgn_Judul/93_UML @ Classroom.pdf\n",
            "./Hasil_Download_Springer_Free_Books_Dgn_Judul/94_Design and Analysis of Experiments.pdf\n",
            "./Hasil_Download_Springer_Free_Books_Dgn_Judul/95_Foundations for Designing User-Centered Systems.pdf\n",
            "./Hasil_Download_Springer_Free_Books_Dgn_Judul/96_Handbook of Consumer Finance Research.pdf\n",
            "./Hasil_Download_Springer_Free_Books_Dgn_Judul/97_Principles of Terrestrial Ecosystem Ecology.pdf\n",
            "./Hasil_Download_Springer_Free_Books_Dgn_Judul/98_Applied Multivariate Statistical Analysis.pdf\n",
            "./Hasil_Download_Springer_Free_Books_Dgn_Judul/99_Strategic International Management.pdf\n",
            "./Hasil_Download_Springer_Free_Books_Dgn_Judul/100_Computer Vision.pdf\n",
            "./Hasil_Download_Springer_Free_Books_Dgn_Judul/101_Engineering Electromagnetics.pdf\n",
            "./Hasil_Download_Springer_Free_Books_Dgn_Judul/102_Data Mining.pdf\n",
            "./Hasil_Download_Springer_Free_Books_Dgn_Judul/103_International Trade Theory and Policy.pdf\n",
            "./Hasil_Download_Springer_Free_Books_Dgn_Judul/104_Alternative Energy Sources.pdf\n",
            "./Hasil_Download_Springer_Free_Books_Dgn_Judul/105_Introduction to Electronic Commerce and Social Commerce.pdf\n",
            "./Hasil_Download_Springer_Free_Books_Dgn_Judul/106_Computational Geometry.pdf\n",
            "./Hasil_Download_Springer_Free_Books_Dgn_Judul/107_Elementary Mechanics Using Python.pdf\n",
            "./Hasil_Download_Springer_Free_Books_Dgn_Judul/108_Energy Economics.pdf\n",
            "./Hasil_Download_Springer_Free_Books_Dgn_Judul/109_Biomedical Informatics.pdf\n",
            "./Hasil_Download_Springer_Free_Books_Dgn_Judul/110_Robotics, Vision and Control.pdf\n",
            "./Hasil_Download_Springer_Free_Books_Dgn_Judul/111_Acid-Base Diagrams.pdf\n",
            "./Hasil_Download_Springer_Free_Books_Dgn_Judul/112_Brewing Science: A Multidisciplinary Approach.pdf\n",
            "./Hasil_Download_Springer_Free_Books_Dgn_Judul/113_Learning Landscape Ecology.pdf\n",
            "./Hasil_Download_Springer_Free_Books_Dgn_Judul/114_Probability.pdf\n",
            "./Hasil_Download_Springer_Free_Books_Dgn_Judul/115_Modeling Life.pdf\n",
            "./Hasil_Download_Springer_Free_Books_Dgn_Judul/116_Introduction to Plasma Physics and Controlled Fusion.pdf\n",
            "./Hasil_Download_Springer_Free_Books_Dgn_Judul/117_Engineering Mechanics 1.pdf\n",
            "./Hasil_Download_Springer_Free_Books_Dgn_Judul/118_Business Statistics for Competitive Advantage with Excel 2016 .pdf\n",
            "./Hasil_Download_Springer_Free_Books_Dgn_Judul/119_Principles of Polymer Chemistry.pdf\n",
            "./Hasil_Download_Springer_Free_Books_Dgn_Judul/120_A Primer on Scientific Programming with Python.pdf\n",
            "./Hasil_Download_Springer_Free_Books_Dgn_Judul/121_Climate Change Science: A Modern Synthesis.pdf\n",
            "./Hasil_Download_Springer_Free_Books_Dgn_Judul/122_Solar PV and Wind Energy Conversion Systems.pdf\n",
            "./Hasil_Download_Springer_Free_Books_Dgn_Judul/123_Statistical Analysis and Data Display.pdf\n",
            "./Hasil_Download_Springer_Free_Books_Dgn_Judul/124_Business Process Management Cases.pdf\n",
            "./Hasil_Download_Springer_Free_Books_Dgn_Judul/125_Elementary Analysis.pdf\n",
            "./Hasil_Download_Springer_Free_Books_Dgn_Judul/126_Cryptography Made Simple.pdf\n",
            "./Hasil_Download_Springer_Free_Books_Dgn_Judul/127_Fluid Dynamics.pdf\n",
            "./Hasil_Download_Springer_Free_Books_Dgn_Judul/128_Social Media Management.pdf\n",
            "./Hasil_Download_Springer_Free_Books_Dgn_Judul/129_Statistics in Criminal Justice.pdf\n",
            "./Hasil_Download_Springer_Free_Books_Dgn_Judul/130_Supply Chain Management and Advanced Planning.pdf\n",
            "./Hasil_Download_Springer_Free_Books_Dgn_Judul/131_Probability Theory.pdf\n",
            "./Hasil_Download_Springer_Free_Books_Dgn_Judul/132_Statistics and Data Analysis for Financial Engineering.pdf\n",
            "./Hasil_Download_Springer_Free_Books_Dgn_Judul/133_Readings in Formal Epistemology.pdf\n",
            "./Hasil_Download_Springer_Free_Books_Dgn_Judul/134_Differential Equations and Their Applications.pdf\n",
            "./Hasil_Download_Springer_Free_Books_Dgn_Judul/135_Nanotechnology: Principles and Practices.pdf\n",
            "./Hasil_Download_Springer_Free_Books_Dgn_Judul/136_Epidemiological Research: Terms and Concepts.pdf\n",
            "./Hasil_Download_Springer_Free_Books_Dgn_Judul/137_Multinational Management.pdf\n",
            "./Hasil_Download_Springer_Free_Books_Dgn_Judul/138_Partial Differential Equations.pdf\n",
            "./Hasil_Download_Springer_Free_Books_Dgn_Judul/139_Bayesian and Frequentist Regression Methods.pdf\n",
            "./Hasil_Download_Springer_Free_Books_Dgn_Judul/140_Strategic International Management.pdf\n",
            "./Hasil_Download_Springer_Free_Books_Dgn_Judul/141_Basic Concepts in Computational Physics.pdf\n",
            "./Hasil_Download_Springer_Free_Books_Dgn_Judul/142_Eye Tracking Methodology.pdf\n",
            "./Hasil_Download_Springer_Free_Books_Dgn_Judul/143_Writing for Publication.pdf\n",
            "./Hasil_Download_Springer_Free_Books_Dgn_Judul/144_Mathematical Physics.pdf\n",
            "./Hasil_Download_Springer_Free_Books_Dgn_Judul/145_Correctional Counseling and Treatment.pdf\n",
            "./Hasil_Download_Springer_Free_Books_Dgn_Judul/146_Thermodynamics and Energy Conversion.pdf\n",
            "./Hasil_Download_Springer_Free_Books_Dgn_Judul/147_The Action Research Planner.pdf\n",
            "./Hasil_Download_Springer_Free_Books_Dgn_Judul/148_Stochastic Processes and Calculus.pdf\n",
            "./Hasil_Download_Springer_Free_Books_Dgn_Judul/149_Statistical Analysis of Clinical Data on a Pocket Calculator.pdf\n",
            "./Hasil_Download_Springer_Free_Books_Dgn_Judul/150_Clinical Data Analysis on a Pocket Calculator.pdf\n",
            "./Hasil_Download_Springer_Free_Books_Dgn_Judul/151_The Data Science Design Manual.pdf\n",
            "./Hasil_Download_Springer_Free_Books_Dgn_Judul/152_An Introduction to Machine Learning.pdf\n",
            "./Hasil_Download_Springer_Free_Books_Dgn_Judul/153_Guide to Discrete Mathematics.pdf\n",
            "./Hasil_Download_Springer_Free_Books_Dgn_Judul/154_Petroleum Geoscience.pdf\n",
            "./Hasil_Download_Springer_Free_Books_Dgn_Judul/155_Structure Determination by X-ray Crystallography.pdf\n",
            "./Hasil_Download_Springer_Free_Books_Dgn_Judul/156_Introduction to Time Series and Forecasting.pdf\n",
            "./Hasil_Download_Springer_Free_Books_Dgn_Judul/157_Principles of Mobile Communication.pdf\n",
            "./Hasil_Download_Springer_Free_Books_Dgn_Judul/158_Cardiovascular Biomechanics.pdf\n",
            "./Hasil_Download_Springer_Free_Books_Dgn_Judul/159_Introduction to Smooth Manifolds.pdf\n",
            "./Hasil_Download_Springer_Free_Books_Dgn_Judul/160_Taxation in European Union.pdf\n",
            "./Hasil_Download_Springer_Free_Books_Dgn_Judul/161_Essentials of Cerebellum and Cerebellar Disorders.pdf\n",
            "./Hasil_Download_Springer_Free_Books_Dgn_Judul/162_Language Across the Curriculum & CLIL in English as an Additional Language (EAL) Contexts.pdf\n",
            "./Hasil_Download_Springer_Free_Books_Dgn_Judul/163_Multivariate Calculus and Geometry.pdf\n",
            "./Hasil_Download_Springer_Free_Books_Dgn_Judul/164_Statistics and Analysis of Scientific Data.pdf\n",
            "./Hasil_Download_Springer_Free_Books_Dgn_Judul/165_Modelling Computing Systems.pdf\n",
            "./Hasil_Download_Springer_Free_Books_Dgn_Judul/166_Search Methodologies.pdf\n",
            "./Hasil_Download_Springer_Free_Books_Dgn_Judul/167_Representation Theory.pdf\n",
            "./Hasil_Download_Springer_Free_Books_Dgn_Judul/168_Linear Algebra Done Right.pdf\n",
            "./Hasil_Download_Springer_Free_Books_Dgn_Judul/169_Stellar Structure and Evolution.pdf\n",
            "./Hasil_Download_Springer_Free_Books_Dgn_Judul/170_Evolutionary Thinking in Medicine.pdf\n",
            "./Hasil_Download_Springer_Free_Books_Dgn_Judul/171_Understanding Cryptography.pdf\n",
            "./Hasil_Download_Springer_Free_Books_Dgn_Judul/172_Linear Algebra.pdf\n",
            "./Hasil_Download_Springer_Free_Books_Dgn_Judul/173_Algebra.pdf\n",
            "./Hasil_Download_Springer_Free_Books_Dgn_Judul/174_Understanding Analysis.pdf\n",
            "./Hasil_Download_Springer_Free_Books_Dgn_Judul/175_Plate Tectonics.pdf\n",
            "./Hasil_Download_Springer_Free_Books_Dgn_Judul/176_Linear Programming.pdf\n",
            "./Hasil_Download_Springer_Free_Books_Dgn_Judul/177_The Nature of Scientific Knowledge.pdf\n",
            "./Hasil_Download_Springer_Free_Books_Dgn_Judul/178_Leadership Today.pdf\n",
            "./Hasil_Download_Springer_Free_Books_Dgn_Judul/179_Physics of Semiconductor Devices.pdf\n",
            "./Hasil_Download_Springer_Free_Books_Dgn_Judul/180_Corporate Social Responsibility.pdf\n",
            "./Hasil_Download_Springer_Free_Books_Dgn_Judul/181_Ordinary Differential Equations.pdf\n",
            "./Hasil_Download_Springer_Free_Books_Dgn_Judul/182_Electronic Commerce.pdf\n",
            "./Hasil_Download_Springer_Free_Books_Dgn_Judul/183_Ceramic Materials.pdf\n",
            "./Hasil_Download_Springer_Free_Books_Dgn_Judul/184_Foundations of Analytical Chemistry.pdf\n",
            "./Hasil_Download_Springer_Free_Books_Dgn_Judul/185_Life Cycle Assessment.pdf\n",
            "./Hasil_Download_Springer_Free_Books_Dgn_Judul/186_A Clinical Guide to the Treatment of the Human Stress Response.pdf\n",
            "./Hasil_Download_Springer_Free_Books_Dgn_Judul/187_Computational Physics.pdf\n",
            "./Hasil_Download_Springer_Free_Books_Dgn_Judul/188_Handbook of LGBT Elders.pdf\n",
            "./Hasil_Download_Springer_Free_Books_Dgn_Judul/189_Handbook of Cardiac Anatomy, Physiology, and Devices.pdf\n",
            "./Hasil_Download_Springer_Free_Books_Dgn_Judul/190_Quantum Mechanics.pdf\n",
            "./Hasil_Download_Springer_Free_Books_Dgn_Judul/191_Understanding Statistics Using R.pdf\n",
            "./Hasil_Download_Springer_Free_Books_Dgn_Judul/192_Mass Spectrometry.pdf\n",
            "./Hasil_Download_Springer_Free_Books_Dgn_Judul/193_Statistical Mechanics for Engineers.pdf\n",
            "./Hasil_Download_Springer_Free_Books_Dgn_Judul/194_The Gastrointestinal System.pdf\n",
            "./Hasil_Download_Springer_Free_Books_Dgn_Judul/195_Additive Manufacturing Technologies.pdf\n",
            "./Hasil_Download_Springer_Free_Books_Dgn_Judul/196_Magnetic Interactions in Molecules and Solids.pdf\n",
            "./Hasil_Download_Springer_Free_Books_Dgn_Judul/197_Electricity and Magnetism.pdf\n",
            "./Hasil_Download_Springer_Free_Books_Dgn_Judul/198_Survival Analysis.pdf\n",
            "./Hasil_Download_Springer_Free_Books_Dgn_Judul/199_Foundations of Quantum Mechanics.pdf\n",
            "./Hasil_Download_Springer_Free_Books_Dgn_Judul/200_An Introduction to Statistical Learning.pdf\n",
            "./Hasil_Download_Springer_Free_Books_Dgn_Judul/201_Introduction to Mathematica® for Physicists.pdf\n",
            "./Hasil_Download_Springer_Free_Books_Dgn_Judul/202_Statistical Learning from a Regression Perspective.pdf\n",
            "./Hasil_Download_Springer_Free_Books_Dgn_Judul/203_Applied Partial Differential Equations.pdf\n",
            "./Hasil_Download_Springer_Free_Books_Dgn_Judul/204_Principles of Astrophysics.pdf\n",
            "./Hasil_Download_Springer_Free_Books_Dgn_Judul/205_Air Pollution and Greenhouse Gases.pdf\n",
            "./Hasil_Download_Springer_Free_Books_Dgn_Judul/206_Polymer Synthesis: Theory and Practice.pdf\n",
            "./Hasil_Download_Springer_Free_Books_Dgn_Judul/207_Sustainable Supply Chains.pdf\n",
            "./Hasil_Download_Springer_Free_Books_Dgn_Judul/208_Robotics.pdf\n",
            "./Hasil_Download_Springer_Free_Books_Dgn_Judul/209_Econometrics.pdf\n",
            "./Hasil_Download_Springer_Free_Books_Dgn_Judul/210_The Sea Floor.pdf\n",
            "./Hasil_Download_Springer_Free_Books_Dgn_Judul/211_SPSS for Starters and 2nd Levelers.pdf\n",
            "./Hasil_Download_Springer_Free_Books_Dgn_Judul/212_Regression Modeling Strategies.pdf\n",
            "./Hasil_Download_Springer_Free_Books_Dgn_Judul/213_Legal Dynamics of EU External Relations.pdf\n",
            "./Hasil_Download_Springer_Free_Books_Dgn_Judul/214_Food Analysis Laboratory Manual.pdf\n",
            "./Hasil_Download_Springer_Free_Books_Dgn_Judul/215_Principles of Musical Acoustics.pdf\n",
            "./Hasil_Download_Springer_Free_Books_Dgn_Judul/216_Fundamentals of Structural Engineering.pdf\n",
            "./Hasil_Download_Springer_Free_Books_Dgn_Judul/217_Basics of Laser Physics.pdf\n",
            "./Hasil_Download_Springer_Free_Books_Dgn_Judul/218_Applied Quantitative Finance.pdf\n",
            "./Hasil_Download_Springer_Free_Books_Dgn_Judul/219_Handbook of Marriage and the Family.pdf\n",
            "./Hasil_Download_Springer_Free_Books_Dgn_Judul/220_Solid-State Physics.pdf\n",
            "./Hasil_Download_Springer_Free_Books_Dgn_Judul/221_Electrochemical Impedance Spectroscopy and its Applications.pdf\n",
            "./Hasil_Download_Springer_Free_Books_Dgn_Judul/222_Economics as Applied Ethics.pdf\n",
            "./Hasil_Download_Springer_Free_Books_Dgn_Judul/223_Electronics for Embedded Systems.pdf\n",
            "./Hasil_Download_Springer_Free_Books_Dgn_Judul/224_Concise Guide to Software Engineering.pdf\n",
            "./Hasil_Download_Springer_Free_Books_Dgn_Judul/225_Fundamentals of Multimedia.pdf\n",
            "./Hasil_Download_Springer_Free_Books_Dgn_Judul/226_Logistics.pdf\n",
            "./Hasil_Download_Springer_Free_Books_Dgn_Judul/227_Group Theory Applied to Chemistry.pdf\n",
            "./Hasil_Download_Springer_Free_Books_Dgn_Judul/228_The Psychology of Social Status.pdf\n",
            "./Hasil_Download_Springer_Free_Books_Dgn_Judul/229_A Modern Introduction to Probability and Statistics.pdf\n",
            "./Hasil_Download_Springer_Free_Books_Dgn_Judul/230_Complex Analysis.pdf\n",
            "./Hasil_Download_Springer_Free_Books_Dgn_Judul/231_Food Chemistry.pdf\n",
            "./Hasil_Download_Springer_Free_Books_Dgn_Judul/232_Exam Survival Guide: Physical Chemistry.pdf\n",
            "./Hasil_Download_Springer_Free_Books_Dgn_Judul/233_The Python Workbook.pdf\n",
            "./Hasil_Download_Springer_Free_Books_Dgn_Judul/234_Practical Electrical Engineering.pdf\n",
            "./Hasil_Download_Springer_Free_Books_Dgn_Judul/235_Strategic Retail Management.pdf\n",
            "./Hasil_Download_Springer_Free_Books_Dgn_Judul/236_Food Analysis.pdf\n",
            "./Hasil_Download_Springer_Free_Books_Dgn_Judul/237_Psychoeducational Assessment and Report Writing.pdf\n",
            "./Hasil_Download_Springer_Free_Books_Dgn_Judul/238_Machine Learning in Medicine - a Complete Overview.pdf\n",
            "./Hasil_Download_Springer_Free_Books_Dgn_Judul/239_Evidence-Based Interventions for Children with Challenging Behavior.pdf\n",
            "./Hasil_Download_Springer_Free_Books_Dgn_Judul/240_Principles of Quantum Mechanics.pdf\n",
            "./Hasil_Download_Springer_Free_Books_Dgn_Judul/241_Recommender Systems.pdf\n",
            "./Hasil_Download_Springer_Free_Books_Dgn_Judul/242_Pharmaceutical Biotechnology.pdf\n",
            "./Hasil_Download_Springer_Free_Books_Dgn_Judul/243_Python Programming Fundamentals.pdf\n",
            "./Hasil_Download_Springer_Free_Books_Dgn_Judul/244_The Finite Element Method and Applications in Engineering Using ANSYS®.pdf\n",
            "./Hasil_Download_Springer_Free_Books_Dgn_Judul/245_Group Theory.pdf\n",
            "./Hasil_Download_Springer_Free_Books_Dgn_Judul/246_Object-Oriented Analysis, Design and Implementation.pdf\n",
            "./Hasil_Download_Springer_Free_Books_Dgn_Judul/247_Introduction to Embedded Systems.pdf\n",
            "./Hasil_Download_Springer_Free_Books_Dgn_Judul/248_Elementary Mechanics Using Matlab.pdf\n",
            "./Hasil_Download_Springer_Free_Books_Dgn_Judul/249_An Introduction to Biomechanics.pdf\n",
            "./Hasil_Download_Springer_Free_Books_Dgn_Judul/250_New Introduction to Multiple Time Series Analysis.pdf\n",
            "./Hasil_Download_Springer_Free_Books_Dgn_Judul/251_Introduction to Data Science.pdf\n",
            "./Hasil_Download_Springer_Free_Books_Dgn_Judul/252_Calculus With Applications.pdf\n",
            "./Hasil_Download_Springer_Free_Books_Dgn_Judul/253_An Introduction to Soil Mechanics.pdf\n",
            "./Hasil_Download_Springer_Free_Books_Dgn_Judul/254_Game Theory.pdf\n",
            "./Hasil_Download_Springer_Free_Books_Dgn_Judul/255_Fundamentals of Clinical Trials.pdf\n",
            "./Hasil_Download_Springer_Free_Books_Dgn_Judul/256_The Finite Volume Method in Computational Fluid Dynamics.pdf\n",
            "./Hasil_Download_Springer_Free_Books_Dgn_Judul/257_The ASCRS Textbook of Colon and Rectal Surgery.pdf\n",
            "./Hasil_Download_Springer_Free_Books_Dgn_Judul/258_Applied Predictive Modeling.pdf\n",
            "./Hasil_Download_Springer_Free_Books_Dgn_Judul/259_Introduction to Logic Circuits & Logic Design with VHDL .pdf\n",
            "./Hasil_Download_Springer_Free_Books_Dgn_Judul/260_Sustainability Science.pdf\n",
            "./Hasil_Download_Springer_Free_Books_Dgn_Judul/261_Physical Chemistry from a Different Angle.pdf\n",
            "./Hasil_Download_Springer_Free_Books_Dgn_Judul/262_The Physics of Semiconductors.pdf\n",
            "./Hasil_Download_Springer_Free_Books_Dgn_Judul/263_Energy Harvesting and Energy Efficiency.pdf\n",
            "./Hasil_Download_Springer_Free_Books_Dgn_Judul/264_Python For ArcGIS.pdf\n",
            "./Hasil_Download_Springer_Free_Books_Dgn_Judul/265_Statics and Mechanics of Structures.pdf\n",
            "./Hasil_Download_Springer_Free_Books_Dgn_Judul/266_Real Analysis.pdf\n",
            "./Hasil_Download_Springer_Free_Books_Dgn_Judul/267_MATLAB for Psychologists.pdf\n",
            "./Hasil_Download_Springer_Free_Books_Dgn_Judul/268_Physical Asset Management.pdf\n",
            "./Hasil_Download_Springer_Free_Books_Dgn_Judul/269_Essentials of Food Science.pdf\n",
            "./Hasil_Download_Springer_Free_Books_Dgn_Judul/270_Quantum Mechanics.pdf\n",
            "./Hasil_Download_Springer_Free_Books_Dgn_Judul/271_Probability Theory.pdf\n",
            "./Hasil_Download_Springer_Free_Books_Dgn_Judul/272_Concise Guide to Databases.pdf\n",
            "./Hasil_Download_Springer_Free_Books_Dgn_Judul/273_Digital Image Processing.pdf\n",
            "./Hasil_Download_Springer_Free_Books_Dgn_Judul/274_Chemical and Bioprocess Engineering.pdf\n",
            "./Hasil_Download_Springer_Free_Books_Dgn_Judul/275_Transmission Electron Microscopy.pdf\n",
            "./Hasil_Download_Springer_Free_Books_Dgn_Judul/276_Guide to Computer Network Security.pdf\n",
            "./Hasil_Download_Springer_Free_Books_Dgn_Judul/277_Introduction to Law.pdf\n",
            "./Hasil_Download_Springer_Free_Books_Dgn_Judul/278_Advanced Quantum Mechanics.pdf\n",
            "./Hasil_Download_Springer_Free_Books_Dgn_Judul/279_Bayesian Essentials with R.pdf\n",
            "./Hasil_Download_Springer_Free_Books_Dgn_Judul/280_Robotics, Vision and Control.pdf\n",
            "./Hasil_Download_Springer_Free_Books_Dgn_Judul/281_Applied Chemistry.pdf\n",
            "./Hasil_Download_Springer_Free_Books_Dgn_Judul/282_Advanced Organic Chemistry.pdf\n",
            "./Hasil_Download_Springer_Free_Books_Dgn_Judul/283_Advanced Organic Chemistry.pdf\n",
            "./Hasil_Download_Springer_Free_Books_Dgn_Judul/284_International Humanitarian Action.pdf\n",
            "./Hasil_Download_Springer_Free_Books_Dgn_Judul/285_Breast Cancer.pdf\n",
            "./Hasil_Download_Springer_Free_Books_Dgn_Judul/286_Travel Marketing, Tourism Economics and the Airline Product.pdf\n",
            "./Hasil_Download_Springer_Free_Books_Dgn_Judul/287_Electronic Commerce 2018.pdf\n",
            "./Hasil_Download_Springer_Free_Books_Dgn_Judul/288_Disability and Vocational Rehabilitation in Rural Settings.pdf\n",
            "./Hasil_Download_Springer_Free_Books_Dgn_Judul/289_Teaching Medicine and Medical Ethics Using Popular Culture.pdf\n",
            "./Hasil_Download_Springer_Free_Books_Dgn_Judul/290_Market Research.pdf\n",
            "./Hasil_Download_Springer_Free_Books_Dgn_Judul/291_Scanning Electron Microscopy and X-Ray Microanalysis.pdf\n",
            "./Hasil_Download_Springer_Free_Books_Dgn_Judul/292_ArcGIS for Environmental and Water Issues.pdf\n",
            "./Hasil_Download_Springer_Free_Books_Dgn_Judul/293_Physics from Symmetry.pdf\n",
            "./Hasil_Download_Springer_Free_Books_Dgn_Judul/294_Communication and Bioethics at the End of Life.pdf\n",
            "./Hasil_Download_Springer_Free_Books_Dgn_Judul/295_Foundations of Programming Languages.pdf\n",
            "./Hasil_Download_Springer_Free_Books_Dgn_Judul/296_Problems in Classical Electromagnetism.pdf\n",
            "./Hasil_Download_Springer_Free_Books_Dgn_Judul/297_Polymer Chemistry.pdf\n",
            "./Hasil_Download_Springer_Free_Books_Dgn_Judul/298_Probability and Statistics for Computer Science.pdf\n",
            "./Hasil_Download_Springer_Free_Books_Dgn_Judul/299_Empathetic Space on Screen.pdf\n",
            "./Hasil_Download_Springer_Free_Books_Dgn_Judul/300_Political Social Work.pdf\n",
            "./Hasil_Download_Springer_Free_Books_Dgn_Judul/301_Introductory Quantum Mechanics.pdf\n",
            "./Hasil_Download_Springer_Free_Books_Dgn_Judul/302_Guide to Competitive Programming.pdf\n",
            "./Hasil_Download_Springer_Free_Books_Dgn_Judul/303_Introduction to Artificial Intelligence.pdf\n",
            "./Hasil_Download_Springer_Free_Books_Dgn_Judul/304_Bioinformatics for Evolutionary Biologists.pdf\n",
            "./Hasil_Download_Springer_Free_Books_Dgn_Judul/305_Concepts, Methods and Practical Applications in Applied Demography.pdf\n",
            "./Hasil_Download_Springer_Free_Books_Dgn_Judul/306_Introduction to Deep Learning.pdf\n",
            "./Hasil_Download_Springer_Free_Books_Dgn_Judul/307_Energy and the Wealth of Nations.pdf\n",
            "./Hasil_Download_Springer_Free_Books_Dgn_Judul/308_A Beginner's Guide to Scala, Object Orientation and Functional Programming.pdf\n",
            "./Hasil_Download_Springer_Free_Books_Dgn_Judul/309_Lessons on Synthetic Bioarchitectures.pdf\n",
            "./Hasil_Download_Springer_Free_Books_Dgn_Judul/310_Managing Sustainable Business.pdf\n",
            "./Hasil_Download_Springer_Free_Books_Dgn_Judul/311_Engineering Mechanics 2.pdf\n",
            "./Hasil_Download_Springer_Free_Books_Dgn_Judul/312_Fundamentals of Business Process Management.pdf\n",
            "./Hasil_Download_Springer_Free_Books_Dgn_Judul/313_Clinical Methods in Medical Family Therapy.pdf\n",
            "./Hasil_Download_Springer_Free_Books_Dgn_Judul/314_Guide to Scientific Computing in C++.pdf\n",
            "./Hasil_Download_Springer_Free_Books_Dgn_Judul/315_Motivation and Action .pdf\n",
            "./Hasil_Download_Springer_Free_Books_Dgn_Judul/316_Perspectives on Elderly Crime and Victimization.pdf\n",
            "./Hasil_Download_Springer_Free_Books_Dgn_Judul/317_Knowledge Management.pdf\n",
            "./Hasil_Download_Springer_Free_Books_Dgn_Judul/318_An Introduction to Zooarchaeology.pdf\n",
            "./Hasil_Download_Springer_Free_Books_Dgn_Judul/319_Abstract Algebra.pdf\n",
            "./Hasil_Download_Springer_Free_Books_Dgn_Judul/320_Criminal Justice and Mental Health.pdf\n",
            "./Hasil_Download_Springer_Free_Books_Dgn_Judul/321_Philosophy of Race.pdf\n",
            "./Hasil_Download_Springer_Free_Books_Dgn_Judul/322_Of Cigarettes, High Heels, and Other Interesting Things.pdf\n",
            "./Hasil_Download_Springer_Free_Books_Dgn_Judul/323_Applied Bioinformatics.pdf\n",
            "./Hasil_Download_Springer_Free_Books_Dgn_Judul/324_Linear Algebra and Analytic Geometry for Physical Sciences.pdf\n",
            "./Hasil_Download_Springer_Free_Books_Dgn_Judul/325_Building Energy Modeling with OpenStudio.pdf\n",
            "./Hasil_Download_Springer_Free_Books_Dgn_Judul/326_Customer Relationship Management.pdf\n",
            "./Hasil_Download_Springer_Free_Books_Dgn_Judul/327_The A-Z of the PhD Trajectory.pdf\n",
            "./Hasil_Download_Springer_Free_Books_Dgn_Judul/328_Strategic Human Resource Management and Employment Relations.pdf\n",
            "./Hasil_Download_Springer_Free_Books_Dgn_Judul/329_Applied Linear Algebra.pdf\n",
            "./Hasil_Download_Springer_Free_Books_Dgn_Judul/330_Witnessing Torture.pdf\n",
            "./Hasil_Download_Springer_Free_Books_Dgn_Judul/331_Proofs from THE BOOK.pdf\n",
            "./Hasil_Download_Springer_Free_Books_Dgn_Judul/332_Introduction to General Relativity.pdf\n",
            "./Hasil_Download_Springer_Free_Books_Dgn_Judul/333_Introduction to Particle and Astroparticle Physics.pdf\n",
            "./Hasil_Download_Springer_Free_Books_Dgn_Judul/334_Fundamentals of Java Programming.pdf\n",
            "./Hasil_Download_Springer_Free_Books_Dgn_Judul/335_Optimization of Process Flowsheets through Metaheuristic Techniques .pdf\n",
            "./Hasil_Download_Springer_Free_Books_Dgn_Judul/336_Robotics.pdf\n",
            "./Hasil_Download_Springer_Free_Books_Dgn_Judul/337_Business Ethics - A Philosophical and Behavioral Approach.pdf\n",
            "./Hasil_Download_Springer_Free_Books_Dgn_Judul/338_A First Introduction to Quantum Physics.pdf\n",
            "./Hasil_Download_Springer_Free_Books_Dgn_Judul/339_Argumentation Theory: A Pragma-Dialectical Perspective.pdf\n",
            "./Hasil_Download_Springer_Free_Books_Dgn_Judul/340_Logical Foundations of Cyber-Physical Systems.pdf\n",
            "./Hasil_Download_Springer_Free_Books_Dgn_Judul/341_Off-Grid Electrical Systems in Developing Countries.pdf\n",
            "./Hasil_Download_Springer_Free_Books_Dgn_Judul/342_Entertainment Science.pdf\n",
            "./Hasil_Download_Springer_Free_Books_Dgn_Judul/343_Physics of Oscillations and Waves.pdf\n",
            "./Hasil_Download_Springer_Free_Books_Dgn_Judul/344_Introduction to Programming with Fortran.pdf\n",
            "./Hasil_Download_Springer_Free_Books_Dgn_Judul/345_Fundamentals of Solid State Engineering.pdf\n",
            "./Hasil_Download_Springer_Free_Books_Dgn_Judul/346_Introduction to Digital Systems Design.pdf\n",
            "./Hasil_Download_Springer_Free_Books_Dgn_Judul/347_Neural Networks and Deep Learning.pdf\n",
            "./Hasil_Download_Springer_Free_Books_Dgn_Judul/348_Data Science and Predictive Analytics.pdf\n",
            "./Hasil_Download_Springer_Free_Books_Dgn_Judul/349_Systems Programming in Unix atau Linux.pdf\n",
            "./Hasil_Download_Springer_Free_Books_Dgn_Judul/350_Analytical Corporate Finance.pdf\n",
            "./Hasil_Download_Springer_Free_Books_Dgn_Judul/351_Fraud and Corruption.pdf\n",
            "./Hasil_Download_Springer_Free_Books_Dgn_Judul/352_Conferencing and Presentation English for Young Academics.pdf\n",
            "./Hasil_Download_Springer_Free_Books_Dgn_Judul/353_A Concise Guide to Market Research.pdf\n",
            "./Hasil_Download_Springer_Free_Books_Dgn_Judul/354_Global Supply Chain and Operations Management.pdf\n",
            "./Hasil_Download_Springer_Free_Books_Dgn_Judul/355_Introduction to Parallel Computing.pdf\n",
            "./Hasil_Download_Springer_Free_Books_Dgn_Judul/356_Mathematical Logic.pdf\n",
            "./Hasil_Download_Springer_Free_Books_Dgn_Judul/357_Stability and Control of Linear Systems.pdf\n",
            "./Hasil_Download_Springer_Free_Books_Dgn_Judul/358_Introduction to Formal Philosophy.pdf\n",
            "./Hasil_Download_Springer_Free_Books_Dgn_Judul/359_Analysis for Computer Scientists.pdf\n",
            "./Hasil_Download_Springer_Free_Books_Dgn_Judul/360_International Business Management.pdf\n",
            "./Hasil_Download_Springer_Free_Books_Dgn_Judul/361_Research Methods for the Digital Humanities.pdf\n",
            "./Hasil_Download_Springer_Free_Books_Dgn_Judul/362_Introductory Computer Forensics.pdf\n",
            "./Hasil_Download_Springer_Free_Books_Dgn_Judul/363_Control Engineering.pdf\n",
            "./Hasil_Download_Springer_Free_Books_Dgn_Judul/364_Control Engineering: MATLAB Exercises.pdf\n",
            "./Hasil_Download_Springer_Free_Books_Dgn_Judul/365_ENZYMES: Catalysis, Kinetics and Mechanisms.pdf\n",
            "./Hasil_Download_Springer_Free_Books_Dgn_Judul/366_Automatic Control with Experiments.pdf\n",
            "./Hasil_Download_Springer_Free_Books_Dgn_Judul/367_Internet of Things From Hype to Reality.pdf\n",
            "./Hasil_Download_Springer_Free_Books_Dgn_Judul/368_Quantitative Methods for the Social Sciences.pdf\n",
            "./Hasil_Download_Springer_Free_Books_Dgn_Judul/369_A Pythagorean Introduction to Number Theory.pdf\n",
            "./Hasil_Download_Springer_Free_Books_Dgn_Judul/370_Philosophical and Mathematical Logic.pdf\n",
            "./Hasil_Download_Springer_Free_Books_Dgn_Judul/371_Structural Dynamics.pdf\n",
            "./Hasil_Download_Springer_Free_Books_Dgn_Judul/372_Plant Physiology, Development and Metabolism.pdf\n",
            "./Hasil_Download_Springer_Free_Books_Dgn_Judul/373_Quantum Mechanics for Pedestrians 1.pdf\n",
            "./Hasil_Download_Springer_Free_Books_Dgn_Judul/374_Plant Anatomy.pdf\n",
            "./Hasil_Download_Springer_Free_Books_Dgn_Judul/375_Quantum Mechanics for Pedestrians 2.pdf\n",
            "./Hasil_Download_Springer_Free_Books_Dgn_Judul/376_Excel Data Analysis.pdf\n",
            "./Hasil_Download_Springer_Free_Books_Dgn_Judul/377_Quick Start Guide to VHDL.pdf\n",
            "./Hasil_Download_Springer_Free_Books_Dgn_Judul/378_Java in Two Semesters.pdf\n",
            "./Hasil_Download_Springer_Free_Books_Dgn_Judul/379_Managing Media and Digital Organizations.pdf\n",
            "./Hasil_Download_Springer_Free_Books_Dgn_Judul/380_Media and Digital Management.pdf\n",
            "./Hasil_Download_Springer_Free_Books_Dgn_Judul/381_An Anthology of London in Literature, 1558-1914.pdf\n",
            "./Hasil_Download_Springer_Free_Books_Dgn_Judul/382_Astronautics.pdf\n",
            "./Hasil_Download_Springer_Free_Books_Dgn_Judul/383_Perceptual Organization.pdf\n",
            "./Hasil_Download_Springer_Free_Books_Dgn_Judul/384_Research Methods for Social Justice and Equity in Education.pdf\n",
            "./Hasil_Download_Springer_Free_Books_Dgn_Judul/385_Educational Technology.pdf\n",
            "./Hasil_Download_Springer_Free_Books_Dgn_Judul/386_Quick Start Guide to Verilog.pdf\n",
            "./Hasil_Download_Springer_Free_Books_Dgn_Judul/387_Spine Surgery.pdf\n",
            "./Hasil_Download_Springer_Free_Books_Dgn_Judul/388_Introduction to Logic Circuits & Logic Design with VHDL .pdf\n",
            "./Hasil_Download_Springer_Free_Books_Dgn_Judul/389_Social Justice Theory and Practice for Social Work.pdf\n",
            "./Hasil_Download_Springer_Free_Books_Dgn_Judul/390_School Leadership and Educational Change in Singapore.pdf\n",
            "./Hasil_Download_Springer_Free_Books_Dgn_Judul/391_Digital Business Models.pdf\n",
            "./Hasil_Download_Springer_Free_Books_Dgn_Judul/392_Introduction to Logic Circuits & Logic Design with Verilog.pdf\n",
            "./Hasil_Download_Springer_Free_Books_Dgn_Judul/393_Pharmaceutical Biotechnology.pdf\n",
            "./Hasil_Download_Springer_Free_Books_Dgn_Judul/394_Mapping Global Theatre Histories.pdf\n",
            "./Hasil_Download_Springer_Free_Books_Dgn_Judul/395_Social Marketing in Action.pdf\n",
            "./Hasil_Download_Springer_Free_Books_Dgn_Judul/396_Analyzing Qualitative Data with MAXQDA.pdf\n",
            "./Hasil_Download_Springer_Free_Books_Dgn_Judul/397_Handbook of Evolutionary Research in Archaeology.pdf\n",
            "./Hasil_Download_Springer_Free_Books_Dgn_Judul/398_Evidence-Based Practice in Clinical Social Work.pdf\n",
            "./Hasil_Download_Springer_Free_Books_Dgn_Judul/399_Foundations of Behavioral Health.pdf\n",
            "./Hasil_Download_Springer_Free_Books_Dgn_Judul/400_Social Psychology in Action.pdf\n",
            "./Hasil_Download_Springer_Free_Books_Dgn_Judul/401_Essentials of Business Analytics.pdf\n",
            "./Hasil_Download_Springer_Free_Books_Dgn_Judul/402_A Course in Rasch Measurement Theory.pdf\n",
            "./Hasil_Download_Springer_Free_Books_Dgn_Judul/403_Multimedia Big Data Computing for IoT Applications.pdf\n",
            "./Hasil_Download_Springer_Free_Books_Dgn_Judul/404_Policing and Minority Communities.pdf\n",
            "./Hasil_Download_Springer_Free_Books_Dgn_Judul/405_A Beginners Guide to Python 3 Programming.pdf\n",
            "./Hasil_Download_Springer_Free_Books_Dgn_Judul/406_Advanced Guide to Python 3 Programming.pdf\n",
            "./Hasil_Download_Springer_Free_Books_Dgn_Judul/407_Literature and Medicine.pdf\n",
            "./Hasil_Download_Springer_Free_Books_Dgn_Judul/408_Food Fraud Prevention.pdf\n"
          ],
          "name": "stdout"
        }
      ]
    },
    {
      "cell_type": "code",
      "metadata": {
        "id": "N_vreR6AXria",
        "colab_type": "code",
        "colab": {
          "base_uri": "https://localhost:8080/",
          "height": 147
        },
        "outputId": "70b25e4c-a774-4cc4-847e-e5cac9647b48"
      },
      "source": [
        "!ls -l -a --block-size=M"
      ],
      "execution_count": 130,
      "outputs": [
        {
          "output_type": "stream",
          "text": [
            "total 8287M\n",
            "-rw------- 1 root root    0M Apr 25 23:52  geckodriver.log\n",
            "drwx------ 2 root root    1M Apr 26 02:52  Hasil_Download_Springer_Free_Books\n",
            "drwx------ 3 root root    1M Apr 26 04:36  Hasil_Download_Springer_Free_Books_Dgn_Judul\n",
            "-rw------- 1 root root 8286M Apr 26 04:54  Hasil_Download_Springer_Free_Books_Dgn_Judul.tar\n",
            "-rw------- 1 root root    1M Apr 26 00:04 'List Springer Ebooks.html'\n"
          ],
          "name": "stdout"
        }
      ]
    },
    {
      "cell_type": "code",
      "metadata": {
        "id": "6L2z-8W-4U7G",
        "colab_type": "code",
        "colab": {}
      },
      "source": [
        "!mkdir TempSimulasiDownload"
      ],
      "execution_count": 0,
      "outputs": []
    },
    {
      "cell_type": "code",
      "metadata": {
        "id": "N_rzn-vc4lvz",
        "colab_type": "code",
        "colab": {}
      },
      "source": [
        "!mv Temp* Temp_Simulasi_Download_dr_Drive_Link_Public"
      ],
      "execution_count": 0,
      "outputs": []
    },
    {
      "cell_type": "code",
      "metadata": {
        "id": "t5nrCO9M5GBA",
        "colab_type": "code",
        "colab": {
          "base_uri": "https://localhost:8080/",
          "height": 166
        },
        "outputId": "1ef380cc-8213-4c4e-b011-72e3f71249a9"
      },
      "source": [
        "!ls -l -a --block-size=M"
      ],
      "execution_count": 136,
      "outputs": [
        {
          "output_type": "stream",
          "text": [
            "total 8287M\n",
            "-rw------- 1 root root    0M Apr 25 23:52  geckodriver.log\n",
            "drwx------ 2 root root    1M Apr 26 02:52  Hasil_Download_Springer_Free_Books\n",
            "drwx------ 3 root root    1M Apr 26 04:36  Hasil_Download_Springer_Free_Books_Dgn_Judul\n",
            "-rw------- 1 root root 8286M Apr 26 04:54  Hasil_Download_Springer_Free_Books_Dgn_Judul.tar\n",
            "-rw------- 1 root root    1M Apr 26 00:04 'List Springer Ebooks.html'\n",
            "drwx------ 2 root root    1M Apr 26 05:09  Temp_Simulasi_Download_dr_Drive_Link_Public\n"
          ],
          "name": "stdout"
        }
      ]
    },
    {
      "cell_type": "code",
      "metadata": {
        "id": "UcV0lrZf5Nsy",
        "colab_type": "code",
        "colab": {
          "base_uri": "https://localhost:8080/",
          "height": 55
        },
        "outputId": "18e6696b-b18c-4882-ef17-4644ba9045d4"
      },
      "source": [
        "os.chdir(\"/content/drive/My Drive/Springer_Free_Books/Temp_Simulasi_Download_dr_Drive_Link_Public\")\n",
        "!pwd"
      ],
      "execution_count": 138,
      "outputs": [
        {
          "output_type": "stream",
          "text": [
            "/content/drive/My Drive/Springer_Free_Books/Temp_Simulasi_Download_dr_Drive_Link_Public\n"
          ],
          "name": "stdout"
        }
      ]
    },
    {
      "cell_type": "code",
      "metadata": {
        "id": "VF3n9k6F4SWH",
        "colab_type": "code",
        "colab": {
          "base_uri": "https://localhost:8080/",
          "height": 478
        },
        "outputId": "4c027b81-9d2f-474d-f5c7-a481facd32ed"
      },
      "source": [
        "# misal link public file tersebut: \n",
        "# https://drive.google.com/file/d/1odMYQ9jEcI0XkUDDD9jbkzPm0X00lent/view?usp=sharing\n",
        "\n",
        "# maka cara download-nya sbg berikut:\n",
        "!wget --load-cookies /tmp/cookies.txt \"https://docs.google.com/uc?export=download&confirm=$(wget --quiet --save-cookies /tmp/cookies.txt --keep-session-cookies --no-check-certificate 'https://docs.google.com/uc?export=download&id=1odMYQ9jEcI0XkUDDD9jbkzPm0X00lent' -O- | sed -rn 's/.*confirm=([0-9A-Za-z_]+).*/\\1\\n/p')&id=1odMYQ9jEcI0XkUDDD9jbkzPm0X00lent\" -O 'Hasil_Download_Springer_Free_Books_Dgn_Judul.tar' && rm -rf /tmp/cookies.txt"
      ],
      "execution_count": 139,
      "outputs": [
        {
          "output_type": "stream",
          "text": [
            "--2020-04-26 05:11:39--  https://docs.google.com/uc?export=download&confirm=UrNq&id=1odMYQ9jEcI0XkUDDD9jbkzPm0X00lent\n",
            "Resolving docs.google.com (docs.google.com)... 173.194.216.139, 173.194.216.113, 173.194.216.102, ...\n",
            "Connecting to docs.google.com (docs.google.com)|173.194.216.139|:443... connected.\n",
            "HTTP request sent, awaiting response... 302 Moved Temporarily\n",
            "Location: https://doc-0o-0s-docs.googleusercontent.com/docs/securesc/c4rv9c0vngg6f56djlovivvpn547lcb6/a58h9gjv34kqn2l7e8j0qaf8rrfkq3uf/1587877875000/09783780208665738920/17875821774248849938Z/1odMYQ9jEcI0XkUDDD9jbkzPm0X00lent?e=download [following]\n",
            "--2020-04-26 05:11:39--  https://doc-0o-0s-docs.googleusercontent.com/docs/securesc/c4rv9c0vngg6f56djlovivvpn547lcb6/a58h9gjv34kqn2l7e8j0qaf8rrfkq3uf/1587877875000/09783780208665738920/17875821774248849938Z/1odMYQ9jEcI0XkUDDD9jbkzPm0X00lent?e=download\n",
            "Resolving doc-0o-0s-docs.googleusercontent.com (doc-0o-0s-docs.googleusercontent.com)... 173.194.216.132, 2607:f8b0:400c:c12::84\n",
            "Connecting to doc-0o-0s-docs.googleusercontent.com (doc-0o-0s-docs.googleusercontent.com)|173.194.216.132|:443... connected.\n",
            "HTTP request sent, awaiting response... 302 Found\n",
            "Location: https://docs.google.com/nonceSigner?nonce=k039qgq3ug35i&continue=https://doc-0o-0s-docs.googleusercontent.com/docs/securesc/c4rv9c0vngg6f56djlovivvpn547lcb6/a58h9gjv34kqn2l7e8j0qaf8rrfkq3uf/1587877875000/09783780208665738920/17875821774248849938Z/1odMYQ9jEcI0XkUDDD9jbkzPm0X00lent?e%3Ddownload&hash=mjja1g9pg45rs8kkidcjsa1p823b0uph [following]\n",
            "--2020-04-26 05:11:39--  https://docs.google.com/nonceSigner?nonce=k039qgq3ug35i&continue=https://doc-0o-0s-docs.googleusercontent.com/docs/securesc/c4rv9c0vngg6f56djlovivvpn547lcb6/a58h9gjv34kqn2l7e8j0qaf8rrfkq3uf/1587877875000/09783780208665738920/17875821774248849938Z/1odMYQ9jEcI0XkUDDD9jbkzPm0X00lent?e%3Ddownload&hash=mjja1g9pg45rs8kkidcjsa1p823b0uph\n",
            "Connecting to docs.google.com (docs.google.com)|173.194.216.139|:443... connected.\n",
            "HTTP request sent, awaiting response... 302 Found\n",
            "Location: https://doc-0o-0s-docs.googleusercontent.com/docs/securesc/c4rv9c0vngg6f56djlovivvpn547lcb6/a58h9gjv34kqn2l7e8j0qaf8rrfkq3uf/1587877875000/09783780208665738920/17875821774248849938Z/1odMYQ9jEcI0XkUDDD9jbkzPm0X00lent?e=download&nonce=k039qgq3ug35i&user=17875821774248849938Z&hash=jcquknt8e1eua8jbhumc1l8qq6p3bhb7 [following]\n",
            "--2020-04-26 05:11:39--  https://doc-0o-0s-docs.googleusercontent.com/docs/securesc/c4rv9c0vngg6f56djlovivvpn547lcb6/a58h9gjv34kqn2l7e8j0qaf8rrfkq3uf/1587877875000/09783780208665738920/17875821774248849938Z/1odMYQ9jEcI0XkUDDD9jbkzPm0X00lent?e=download&nonce=k039qgq3ug35i&user=17875821774248849938Z&hash=jcquknt8e1eua8jbhumc1l8qq6p3bhb7\n",
            "Connecting to doc-0o-0s-docs.googleusercontent.com (doc-0o-0s-docs.googleusercontent.com)|173.194.216.132|:443... connected.\n",
            "HTTP request sent, awaiting response... 200 OK\n",
            "Length: unspecified [application/x-tar]\n",
            "Saving to: ‘Hasil_Download_Springer_Free_Books_Dgn_Judul.tar’\n",
            "\n",
            "Hasil_Download_Spri     [ <=>                ]   8.09G  62.1MB/s    in 2m 17s  \n",
            "\n",
            "2020-04-26 05:13:57 (60.5 MB/s) - ‘Hasil_Download_Springer_Free_Books_Dgn_Judul.tar’ saved [8688015360]\n",
            "\n"
          ],
          "name": "stdout"
        }
      ]
    },
    {
      "cell_type": "code",
      "metadata": {
        "id": "5K_jueHx6ur5",
        "colab_type": "code",
        "colab": {}
      },
      "source": [
        "# Simulasi buat folder utk Ekstrak file *.tar tersebut (-+ *GB)\n",
        "os.chdir(\"/content/drive/My Drive/Springer_Free_Books\")\n",
        "!mkdir Temp_Simulasi_Ekstrak_Download_dr_Drive_Link_Public"
      ],
      "execution_count": 0,
      "outputs": []
    },
    {
      "cell_type": "code",
      "metadata": {
        "id": "VEoD-fNl6vzB",
        "colab_type": "code",
        "colab": {
          "base_uri": "https://localhost:8080/",
          "height": 184
        },
        "outputId": "18893b6b-f080-4fc9-b2cf-2087c466d62d"
      },
      "source": [
        "!ls -l -a --block-size=M"
      ],
      "execution_count": 143,
      "outputs": [
        {
          "output_type": "stream",
          "text": [
            "total 8287M\n",
            "-rw------- 1 root root    0M Apr 25 23:52  geckodriver.log\n",
            "drwx------ 2 root root    1M Apr 26 02:52  Hasil_Download_Springer_Free_Books\n",
            "drwx------ 3 root root    1M Apr 26 04:36  Hasil_Download_Springer_Free_Books_Dgn_Judul\n",
            "-rw------- 1 root root 8286M Apr 26 04:54  Hasil_Download_Springer_Free_Books_Dgn_Judul.tar\n",
            "-rw------- 1 root root    1M Apr 26 00:04 'List Springer Ebooks.html'\n",
            "drwx------ 2 root root    1M Apr 26 05:13  Temp_Simulasi_Download_dr_Drive_Link_Public\n",
            "drwx------ 2 root root    1M Apr 26 05:20  Temp_Simulasi_Ekstrak_Download_dr_Drive_Link_Public\n"
          ],
          "name": "stdout"
        }
      ]
    },
    {
      "cell_type": "code",
      "metadata": {
        "id": "uE1qzSxQ7Ma1",
        "colab_type": "code",
        "colab": {
          "base_uri": "https://localhost:8080/",
          "height": 1000
        },
        "outputId": "058a50f6-f632-499c-abf0-0cfef4444c21"
      },
      "source": [
        "# decompress file\n",
        "!tar -xv -C './Temp_Simulasi_Ekstrak_Download_dr_Drive_Link_Public' -f './Temp_Simulasi_Download_dr_Drive_Link_Public/Hasil_Download_Springer_Free_Books_Dgn_Judul.tar'"
      ],
      "execution_count": 151,
      "outputs": [
        {
          "output_type": "stream",
          "text": [
            "./Hasil_Download_Springer_Free_Books_Dgn_Judul/\n",
            "./Hasil_Download_Springer_Free_Books_Dgn_Judul/1_Fundamentals of Power Electronics.pdf\n",
            "./Hasil_Download_Springer_Free_Books_Dgn_Judul/2_Handbook of the Life Course.pdf\n",
            "./Hasil_Download_Springer_Free_Books_Dgn_Judul/.ipynb_checkpoints/\n",
            "./Hasil_Download_Springer_Free_Books_Dgn_Judul/3_All of Statistics.pdf\n",
            "./Hasil_Download_Springer_Free_Books_Dgn_Judul/4_Social Anxiety and Social Phobia in Youth.pdf\n",
            "./Hasil_Download_Springer_Free_Books_Dgn_Judul/5_Discrete Mathematics.pdf\n",
            "./Hasil_Download_Springer_Free_Books_Dgn_Judul/6_Developmental Neurobiology.pdf\n",
            "./Hasil_Download_Springer_Free_Books_Dgn_Judul/7_Intuitive Probability and Random Processes Using MATLAB®.pdf\n",
            "./Hasil_Download_Springer_Free_Books_Dgn_Judul/8_Handbook of Disaster Research.pdf\n",
            "./Hasil_Download_Springer_Free_Books_Dgn_Judul/9_Handbook of the Sociology of Gender.pdf\n",
            "./Hasil_Download_Springer_Free_Books_Dgn_Judul/10_Handbook of Sociological Theory.pdf\n",
            "./Hasil_Download_Springer_Free_Books_Dgn_Judul/11_Clinical Neuroanatomy: A Neurobehavioral Approach.pdf\n",
            "./Hasil_Download_Springer_Free_Books_Dgn_Judul/12_Acquired Brain Injury.pdf\n",
            "./Hasil_Download_Springer_Free_Books_Dgn_Judul/13_Numerical Optimization.pdf\n",
            "./Hasil_Download_Springer_Free_Books_Dgn_Judul/14_Handbook Of Biological Confocal Microscopy.pdf\n",
            "./Hasil_Download_Springer_Free_Books_Dgn_Judul/15_Ceramic Materials.pdf\n",
            "./Hasil_Download_Springer_Free_Books_Dgn_Judul/16_Principles of Fluorescence Spectroscopy.pdf\n",
            "./Hasil_Download_Springer_Free_Books_Dgn_Judul/17_Fundamentals of Biomechanics.pdf\n",
            "./Hasil_Download_Springer_Free_Books_Dgn_Judul/18_Primer on the Rheumatic Diseases.pdf\n",
            "./Hasil_Download_Springer_Free_Books_Dgn_Judul/19_International Handbook of Historical Archaeology.pdf\n",
            "./Hasil_Download_Springer_Free_Books_Dgn_Judul/20_Database Marketing.pdf\n",
            "./Hasil_Download_Springer_Free_Books_Dgn_Judul/21_Composite Materials.pdf\n",
            "./Hasil_Download_Springer_Free_Books_Dgn_Judul/22_Time Series Analysis.pdf\n",
            "./Hasil_Download_Springer_Free_Books_Dgn_Judul/23_Transmission Electron Microscopy.pdf\n",
            "./Hasil_Download_Springer_Free_Books_Dgn_Judul/24_Handbook of Quantitative Criminology.pdf\n",
            "./Hasil_Download_Springer_Free_Books_Dgn_Judul/25_Plant Physiological Ecology.pdf\n",
            "./Hasil_Download_Springer_Free_Books_Dgn_Judul/26_Introductory Statistics with R.pdf\n",
            "./Hasil_Download_Springer_Free_Books_Dgn_Judul/27_The Elements of Statistical Learning.pdf\n",
            "./Hasil_Download_Springer_Free_Books_Dgn_Judul/28_Psychology, Religion, and Spirituality.pdf\n",
            "./Hasil_Download_Springer_Free_Books_Dgn_Judul/29_Introductory Time Series with R.pdf\n",
            "./Hasil_Download_Springer_Free_Books_Dgn_Judul/30_Child Neuropsychology.pdf\n",
            "./Hasil_Download_Springer_Free_Books_Dgn_Judul/31_A Beginner’s Guide to R.pdf\n",
            "./Hasil_Download_Springer_Free_Books_Dgn_Judul/32_Geomorphology of Desert Environments.pdf\n",
            "./Hasil_Download_Springer_Free_Books_Dgn_Judul/33_The Joy of Science.pdf\n",
            "./Hasil_Download_Springer_Free_Books_Dgn_Judul/34_Fatigue of Structures and Materials.pdf\n",
            "./Hasil_Download_Springer_Free_Books_Dgn_Judul/35_Essential Astrophysics.pdf\n",
            "./Hasil_Download_Springer_Free_Books_Dgn_Judul/36_Introduction to Evolutionary Computing.pdf\n",
            "./Hasil_Download_Springer_Free_Books_Dgn_Judul/37_Data Analysis.pdf\n",
            "./Hasil_Download_Springer_Free_Books_Dgn_Judul/38_International Perspectives on Psychotherapy.pdf\n",
            "./Hasil_Download_Springer_Free_Books_Dgn_Judul/39_Electrical Machines.pdf\n",
            "./Hasil_Download_Springer_Free_Books_Dgn_Judul/40_Mechanics and Thermodynamics.pdf\n",
            "./Hasil_Download_Springer_Free_Books_Dgn_Judul/41_Applied Behavior Analysis.pdf\n",
            "./Hasil_Download_Springer_Free_Books_Dgn_Judul/42_Reading, Writing, and Proving.pdf\n",
            "./Hasil_Download_Springer_Free_Books_Dgn_Judul/43_Linear and Nonlinear Programming.pdf\n",
            "./Hasil_Download_Springer_Free_Books_Dgn_Judul/44_Introduction to Partial Differential Equations.pdf\n",
            "./Hasil_Download_Springer_Free_Books_Dgn_Judul/45_Energy Storage.pdf\n",
            "./Hasil_Download_Springer_Free_Books_Dgn_Judul/46_Metabolism of Human Diseases.pdf\n",
            "./Hasil_Download_Springer_Free_Books_Dgn_Judul/47_Sensory Evaluation of Food.pdf\n",
            "./Hasil_Download_Springer_Free_Books_Dgn_Judul/48_Fundamentals of Robotic Mechanical Systems.pdf\n",
            "./Hasil_Download_Springer_Free_Books_Dgn_Judul/49_Integrative Human Biochemistry.pdf\n",
            "./Hasil_Download_Springer_Free_Books_Dgn_Judul/50_Philosophy of Science for Scientists.pdf\n",
            "./Hasil_Download_Springer_Free_Books_Dgn_Judul/51_Particles and Nuclei.pdf\n",
            "./Hasil_Download_Springer_Free_Books_Dgn_Judul/52_Data Structures and Algorithms with Python.pdf\n",
            "./Hasil_Download_Springer_Free_Books_Dgn_Judul/53_LGBT-Parent Families.pdf\n",
            "./Hasil_Download_Springer_Free_Books_Dgn_Judul/54_Integrated Neuroscience.pdf\n",
            "./Hasil_Download_Springer_Free_Books_Dgn_Judul/55_Introduction to Partial Differential Equations.pdf\n",
            "./Hasil_Download_Springer_Free_Books_Dgn_Judul/56_Microeconomics.pdf\n",
            "./Hasil_Download_Springer_Free_Books_Dgn_Judul/57_System Dynamics.pdf\n",
            "./Hasil_Download_Springer_Free_Books_Dgn_Judul/58_Cosmology for the Curious.pdf\n",
            "./Hasil_Download_Springer_Free_Books_Dgn_Judul/59_Methods of Mathematical Modelling.pdf\n",
            "./Hasil_Download_Springer_Free_Books_Dgn_Judul/60_Introduction to Logic Circuits & Logic Design with Verilog.pdf\n",
            "./Hasil_Download_Springer_Free_Books_Dgn_Judul/61_Structural Analysis.pdf\n",
            "./Hasil_Download_Springer_Free_Books_Dgn_Judul/62_Engineering Flow and Heat Exchange.pdf\n",
            "./Hasil_Download_Springer_Free_Books_Dgn_Judul/63_Enterprise Risk Management Models.pdf\n",
            "./Hasil_Download_Springer_Free_Books_Dgn_Judul/64_Reactive Power Control in AC Power Systems.pdf\n",
            "./Hasil_Download_Springer_Free_Books_Dgn_Judul/65_Principles of Microeconomics.pdf\n",
            "./Hasil_Download_Springer_Free_Books_Dgn_Judul/66_Additive Manufacturing Technologies.pdf\n",
            "./Hasil_Download_Springer_Free_Books_Dgn_Judul/67_Principles of Physics.pdf\n",
            "./Hasil_Download_Springer_Free_Books_Dgn_Judul/68_Fundamentals of Biomechanics.pdf\n",
            "./Hasil_Download_Springer_Free_Books_Dgn_Judul/69_Irrigation and Drainage Engineering.pdf\n",
            "./Hasil_Download_Springer_Free_Books_Dgn_Judul/70_LaTeX in 24 Hours.pdf\n",
            "./Hasil_Download_Springer_Free_Books_Dgn_Judul/71_Psychology of Perception.pdf\n",
            "./Hasil_Download_Springer_Free_Books_Dgn_Judul/72_Extragalactic Astronomy and Cosmology.pdf\n",
            "./Hasil_Download_Springer_Free_Books_Dgn_Judul/73_Automata and Computability.pdf\n",
            "./Hasil_Download_Springer_Free_Books_Dgn_Judul/74_The Algorithm Design Manual.pdf\n",
            "./Hasil_Download_Springer_Free_Books_Dgn_Judul/75_Chemical Thermodynamics.pdf\n",
            "./Hasil_Download_Springer_Free_Books_Dgn_Judul/76_Computational Physics.pdf\n",
            "./Hasil_Download_Springer_Free_Books_Dgn_Judul/77_Introduction to Statistics and Data Analysis .pdf\n",
            "./Hasil_Download_Springer_Free_Books_Dgn_Judul/78_Grammar for Teachers.pdf\n",
            "./Hasil_Download_Springer_Free_Books_Dgn_Judul/79_Time Series Econometrics.pdf\n",
            "./Hasil_Download_Springer_Free_Books_Dgn_Judul/80_Electrochemistry.pdf\n",
            "./Hasil_Download_Springer_Free_Books_Dgn_Judul/81_Classical Fourier Analysis.pdf\n",
            "./Hasil_Download_Springer_Free_Books_Dgn_Judul/82_Human Chromosomes.pdf\n",
            "./Hasil_Download_Springer_Free_Books_Dgn_Judul/83_Phylogenomics.pdf\n",
            "./Hasil_Download_Springer_Free_Books_Dgn_Judul/84_Quantum Theory for Mathematicians.pdf\n",
            "./Hasil_Download_Springer_Free_Books_Dgn_Judul/85_Evidence-Based Critical Care.pdf\n",
            "./Hasil_Download_Springer_Free_Books_Dgn_Judul/86_Clinical Assessment of Child and Adolescent Personality and Behavior.pdf\n",
            "./Hasil_Download_Springer_Free_Books_Dgn_Judul/87_Design Research in Information Systems.pdf\n",
            "./Hasil_Download_Springer_Free_Books_Dgn_Judul/88_Intermediate Physics for Medicine and Biology.pdf\n",
            "./Hasil_Download_Springer_Free_Books_Dgn_Judul/89_Principles of Data Mining.pdf\n",
            "./Hasil_Download_Springer_Free_Books_Dgn_Judul/90_Fundamental Astronomy.pdf\n",
            "./Hasil_Download_Springer_Free_Books_Dgn_Judul/91_Fundamentals of Business Process Management.pdf\n",
            "./Hasil_Download_Springer_Free_Books_Dgn_Judul/92_Brownian Motion, Martingales, and Stochastic Calculus .pdf\n",
            "./Hasil_Download_Springer_Free_Books_Dgn_Judul/93_UML @ Classroom.pdf\n",
            "./Hasil_Download_Springer_Free_Books_Dgn_Judul/94_Design and Analysis of Experiments.pdf\n",
            "./Hasil_Download_Springer_Free_Books_Dgn_Judul/95_Foundations for Designing User-Centered Systems.pdf\n",
            "./Hasil_Download_Springer_Free_Books_Dgn_Judul/96_Handbook of Consumer Finance Research.pdf\n",
            "./Hasil_Download_Springer_Free_Books_Dgn_Judul/97_Principles of Terrestrial Ecosystem Ecology.pdf\n",
            "./Hasil_Download_Springer_Free_Books_Dgn_Judul/98_Applied Multivariate Statistical Analysis.pdf\n",
            "./Hasil_Download_Springer_Free_Books_Dgn_Judul/99_Strategic International Management.pdf\n",
            "./Hasil_Download_Springer_Free_Books_Dgn_Judul/100_Computer Vision.pdf\n",
            "./Hasil_Download_Springer_Free_Books_Dgn_Judul/101_Engineering Electromagnetics.pdf\n",
            "./Hasil_Download_Springer_Free_Books_Dgn_Judul/102_Data Mining.pdf\n",
            "./Hasil_Download_Springer_Free_Books_Dgn_Judul/103_International Trade Theory and Policy.pdf\n",
            "./Hasil_Download_Springer_Free_Books_Dgn_Judul/104_Alternative Energy Sources.pdf\n",
            "./Hasil_Download_Springer_Free_Books_Dgn_Judul/105_Introduction to Electronic Commerce and Social Commerce.pdf\n",
            "./Hasil_Download_Springer_Free_Books_Dgn_Judul/106_Computational Geometry.pdf\n",
            "./Hasil_Download_Springer_Free_Books_Dgn_Judul/107_Elementary Mechanics Using Python.pdf\n",
            "./Hasil_Download_Springer_Free_Books_Dgn_Judul/108_Energy Economics.pdf\n",
            "./Hasil_Download_Springer_Free_Books_Dgn_Judul/109_Biomedical Informatics.pdf\n",
            "./Hasil_Download_Springer_Free_Books_Dgn_Judul/110_Robotics, Vision and Control.pdf\n",
            "./Hasil_Download_Springer_Free_Books_Dgn_Judul/111_Acid-Base Diagrams.pdf\n",
            "./Hasil_Download_Springer_Free_Books_Dgn_Judul/112_Brewing Science: A Multidisciplinary Approach.pdf\n",
            "./Hasil_Download_Springer_Free_Books_Dgn_Judul/113_Learning Landscape Ecology.pdf\n",
            "./Hasil_Download_Springer_Free_Books_Dgn_Judul/114_Probability.pdf\n",
            "./Hasil_Download_Springer_Free_Books_Dgn_Judul/115_Modeling Life.pdf\n",
            "./Hasil_Download_Springer_Free_Books_Dgn_Judul/116_Introduction to Plasma Physics and Controlled Fusion.pdf\n",
            "./Hasil_Download_Springer_Free_Books_Dgn_Judul/117_Engineering Mechanics 1.pdf\n",
            "./Hasil_Download_Springer_Free_Books_Dgn_Judul/118_Business Statistics for Competitive Advantage with Excel 2016 .pdf\n",
            "./Hasil_Download_Springer_Free_Books_Dgn_Judul/119_Principles of Polymer Chemistry.pdf\n",
            "./Hasil_Download_Springer_Free_Books_Dgn_Judul/120_A Primer on Scientific Programming with Python.pdf\n",
            "./Hasil_Download_Springer_Free_Books_Dgn_Judul/121_Climate Change Science: A Modern Synthesis.pdf\n",
            "./Hasil_Download_Springer_Free_Books_Dgn_Judul/122_Solar PV and Wind Energy Conversion Systems.pdf\n",
            "./Hasil_Download_Springer_Free_Books_Dgn_Judul/123_Statistical Analysis and Data Display.pdf\n",
            "./Hasil_Download_Springer_Free_Books_Dgn_Judul/124_Business Process Management Cases.pdf\n",
            "./Hasil_Download_Springer_Free_Books_Dgn_Judul/125_Elementary Analysis.pdf\n",
            "./Hasil_Download_Springer_Free_Books_Dgn_Judul/126_Cryptography Made Simple.pdf\n",
            "./Hasil_Download_Springer_Free_Books_Dgn_Judul/127_Fluid Dynamics.pdf\n",
            "./Hasil_Download_Springer_Free_Books_Dgn_Judul/128_Social Media Management.pdf\n",
            "./Hasil_Download_Springer_Free_Books_Dgn_Judul/129_Statistics in Criminal Justice.pdf\n",
            "./Hasil_Download_Springer_Free_Books_Dgn_Judul/130_Supply Chain Management and Advanced Planning.pdf\n",
            "./Hasil_Download_Springer_Free_Books_Dgn_Judul/131_Probability Theory.pdf\n",
            "./Hasil_Download_Springer_Free_Books_Dgn_Judul/132_Statistics and Data Analysis for Financial Engineering.pdf\n",
            "./Hasil_Download_Springer_Free_Books_Dgn_Judul/133_Readings in Formal Epistemology.pdf\n",
            "./Hasil_Download_Springer_Free_Books_Dgn_Judul/134_Differential Equations and Their Applications.pdf\n",
            "./Hasil_Download_Springer_Free_Books_Dgn_Judul/135_Nanotechnology: Principles and Practices.pdf\n",
            "./Hasil_Download_Springer_Free_Books_Dgn_Judul/136_Epidemiological Research: Terms and Concepts.pdf\n",
            "./Hasil_Download_Springer_Free_Books_Dgn_Judul/137_Multinational Management.pdf\n",
            "./Hasil_Download_Springer_Free_Books_Dgn_Judul/138_Partial Differential Equations.pdf\n",
            "./Hasil_Download_Springer_Free_Books_Dgn_Judul/139_Bayesian and Frequentist Regression Methods.pdf\n",
            "./Hasil_Download_Springer_Free_Books_Dgn_Judul/140_Strategic International Management.pdf\n",
            "./Hasil_Download_Springer_Free_Books_Dgn_Judul/141_Basic Concepts in Computational Physics.pdf\n",
            "./Hasil_Download_Springer_Free_Books_Dgn_Judul/142_Eye Tracking Methodology.pdf\n",
            "./Hasil_Download_Springer_Free_Books_Dgn_Judul/143_Writing for Publication.pdf\n",
            "./Hasil_Download_Springer_Free_Books_Dgn_Judul/144_Mathematical Physics.pdf\n",
            "./Hasil_Download_Springer_Free_Books_Dgn_Judul/145_Correctional Counseling and Treatment.pdf\n",
            "./Hasil_Download_Springer_Free_Books_Dgn_Judul/146_Thermodynamics and Energy Conversion.pdf\n",
            "./Hasil_Download_Springer_Free_Books_Dgn_Judul/147_The Action Research Planner.pdf\n",
            "./Hasil_Download_Springer_Free_Books_Dgn_Judul/148_Stochastic Processes and Calculus.pdf\n",
            "./Hasil_Download_Springer_Free_Books_Dgn_Judul/149_Statistical Analysis of Clinical Data on a Pocket Calculator.pdf\n",
            "./Hasil_Download_Springer_Free_Books_Dgn_Judul/150_Clinical Data Analysis on a Pocket Calculator.pdf\n",
            "./Hasil_Download_Springer_Free_Books_Dgn_Judul/151_The Data Science Design Manual.pdf\n",
            "./Hasil_Download_Springer_Free_Books_Dgn_Judul/152_An Introduction to Machine Learning.pdf\n",
            "./Hasil_Download_Springer_Free_Books_Dgn_Judul/153_Guide to Discrete Mathematics.pdf\n",
            "./Hasil_Download_Springer_Free_Books_Dgn_Judul/154_Petroleum Geoscience.pdf\n",
            "./Hasil_Download_Springer_Free_Books_Dgn_Judul/155_Structure Determination by X-ray Crystallography.pdf\n",
            "./Hasil_Download_Springer_Free_Books_Dgn_Judul/156_Introduction to Time Series and Forecasting.pdf\n",
            "./Hasil_Download_Springer_Free_Books_Dgn_Judul/157_Principles of Mobile Communication.pdf\n",
            "./Hasil_Download_Springer_Free_Books_Dgn_Judul/158_Cardiovascular Biomechanics.pdf\n",
            "./Hasil_Download_Springer_Free_Books_Dgn_Judul/159_Introduction to Smooth Manifolds.pdf\n",
            "./Hasil_Download_Springer_Free_Books_Dgn_Judul/160_Taxation in European Union.pdf\n",
            "./Hasil_Download_Springer_Free_Books_Dgn_Judul/161_Essentials of Cerebellum and Cerebellar Disorders.pdf\n",
            "./Hasil_Download_Springer_Free_Books_Dgn_Judul/162_Language Across the Curriculum & CLIL in English as an Additional Language (EAL) Contexts.pdf\n",
            "./Hasil_Download_Springer_Free_Books_Dgn_Judul/163_Multivariate Calculus and Geometry.pdf\n",
            "./Hasil_Download_Springer_Free_Books_Dgn_Judul/164_Statistics and Analysis of Scientific Data.pdf\n",
            "./Hasil_Download_Springer_Free_Books_Dgn_Judul/165_Modelling Computing Systems.pdf\n",
            "./Hasil_Download_Springer_Free_Books_Dgn_Judul/166_Search Methodologies.pdf\n",
            "./Hasil_Download_Springer_Free_Books_Dgn_Judul/167_Representation Theory.pdf\n",
            "./Hasil_Download_Springer_Free_Books_Dgn_Judul/168_Linear Algebra Done Right.pdf\n",
            "./Hasil_Download_Springer_Free_Books_Dgn_Judul/169_Stellar Structure and Evolution.pdf\n",
            "./Hasil_Download_Springer_Free_Books_Dgn_Judul/170_Evolutionary Thinking in Medicine.pdf\n",
            "./Hasil_Download_Springer_Free_Books_Dgn_Judul/171_Understanding Cryptography.pdf\n",
            "./Hasil_Download_Springer_Free_Books_Dgn_Judul/172_Linear Algebra.pdf\n",
            "./Hasil_Download_Springer_Free_Books_Dgn_Judul/173_Algebra.pdf\n",
            "./Hasil_Download_Springer_Free_Books_Dgn_Judul/174_Understanding Analysis.pdf\n",
            "./Hasil_Download_Springer_Free_Books_Dgn_Judul/175_Plate Tectonics.pdf\n",
            "./Hasil_Download_Springer_Free_Books_Dgn_Judul/176_Linear Programming.pdf\n",
            "./Hasil_Download_Springer_Free_Books_Dgn_Judul/177_The Nature of Scientific Knowledge.pdf\n",
            "./Hasil_Download_Springer_Free_Books_Dgn_Judul/178_Leadership Today.pdf\n",
            "./Hasil_Download_Springer_Free_Books_Dgn_Judul/179_Physics of Semiconductor Devices.pdf\n",
            "./Hasil_Download_Springer_Free_Books_Dgn_Judul/180_Corporate Social Responsibility.pdf\n",
            "./Hasil_Download_Springer_Free_Books_Dgn_Judul/181_Ordinary Differential Equations.pdf\n",
            "./Hasil_Download_Springer_Free_Books_Dgn_Judul/182_Electronic Commerce.pdf\n",
            "./Hasil_Download_Springer_Free_Books_Dgn_Judul/183_Ceramic Materials.pdf\n",
            "./Hasil_Download_Springer_Free_Books_Dgn_Judul/184_Foundations of Analytical Chemistry.pdf\n",
            "./Hasil_Download_Springer_Free_Books_Dgn_Judul/185_Life Cycle Assessment.pdf\n",
            "./Hasil_Download_Springer_Free_Books_Dgn_Judul/186_A Clinical Guide to the Treatment of the Human Stress Response.pdf\n",
            "./Hasil_Download_Springer_Free_Books_Dgn_Judul/187_Computational Physics.pdf\n",
            "./Hasil_Download_Springer_Free_Books_Dgn_Judul/188_Handbook of LGBT Elders.pdf\n",
            "./Hasil_Download_Springer_Free_Books_Dgn_Judul/189_Handbook of Cardiac Anatomy, Physiology, and Devices.pdf\n",
            "./Hasil_Download_Springer_Free_Books_Dgn_Judul/190_Quantum Mechanics.pdf\n",
            "./Hasil_Download_Springer_Free_Books_Dgn_Judul/191_Understanding Statistics Using R.pdf\n",
            "./Hasil_Download_Springer_Free_Books_Dgn_Judul/192_Mass Spectrometry.pdf\n",
            "./Hasil_Download_Springer_Free_Books_Dgn_Judul/193_Statistical Mechanics for Engineers.pdf\n",
            "./Hasil_Download_Springer_Free_Books_Dgn_Judul/194_The Gastrointestinal System.pdf\n",
            "./Hasil_Download_Springer_Free_Books_Dgn_Judul/195_Additive Manufacturing Technologies.pdf\n",
            "./Hasil_Download_Springer_Free_Books_Dgn_Judul/196_Magnetic Interactions in Molecules and Solids.pdf\n",
            "./Hasil_Download_Springer_Free_Books_Dgn_Judul/197_Electricity and Magnetism.pdf\n",
            "./Hasil_Download_Springer_Free_Books_Dgn_Judul/198_Survival Analysis.pdf\n",
            "./Hasil_Download_Springer_Free_Books_Dgn_Judul/199_Foundations of Quantum Mechanics.pdf\n",
            "./Hasil_Download_Springer_Free_Books_Dgn_Judul/200_An Introduction to Statistical Learning.pdf\n",
            "./Hasil_Download_Springer_Free_Books_Dgn_Judul/201_Introduction to Mathematica® for Physicists.pdf\n",
            "./Hasil_Download_Springer_Free_Books_Dgn_Judul/202_Statistical Learning from a Regression Perspective.pdf\n",
            "./Hasil_Download_Springer_Free_Books_Dgn_Judul/203_Applied Partial Differential Equations.pdf\n",
            "./Hasil_Download_Springer_Free_Books_Dgn_Judul/204_Principles of Astrophysics.pdf\n",
            "./Hasil_Download_Springer_Free_Books_Dgn_Judul/205_Air Pollution and Greenhouse Gases.pdf\n",
            "./Hasil_Download_Springer_Free_Books_Dgn_Judul/206_Polymer Synthesis: Theory and Practice.pdf\n",
            "./Hasil_Download_Springer_Free_Books_Dgn_Judul/207_Sustainable Supply Chains.pdf\n",
            "./Hasil_Download_Springer_Free_Books_Dgn_Judul/208_Robotics.pdf\n",
            "./Hasil_Download_Springer_Free_Books_Dgn_Judul/209_Econometrics.pdf\n",
            "./Hasil_Download_Springer_Free_Books_Dgn_Judul/210_The Sea Floor.pdf\n",
            "./Hasil_Download_Springer_Free_Books_Dgn_Judul/211_SPSS for Starters and 2nd Levelers.pdf\n",
            "./Hasil_Download_Springer_Free_Books_Dgn_Judul/212_Regression Modeling Strategies.pdf\n",
            "./Hasil_Download_Springer_Free_Books_Dgn_Judul/213_Legal Dynamics of EU External Relations.pdf\n",
            "./Hasil_Download_Springer_Free_Books_Dgn_Judul/214_Food Analysis Laboratory Manual.pdf\n",
            "./Hasil_Download_Springer_Free_Books_Dgn_Judul/215_Principles of Musical Acoustics.pdf\n",
            "./Hasil_Download_Springer_Free_Books_Dgn_Judul/216_Fundamentals of Structural Engineering.pdf\n",
            "./Hasil_Download_Springer_Free_Books_Dgn_Judul/217_Basics of Laser Physics.pdf\n",
            "./Hasil_Download_Springer_Free_Books_Dgn_Judul/218_Applied Quantitative Finance.pdf\n",
            "./Hasil_Download_Springer_Free_Books_Dgn_Judul/219_Handbook of Marriage and the Family.pdf\n",
            "./Hasil_Download_Springer_Free_Books_Dgn_Judul/220_Solid-State Physics.pdf\n",
            "./Hasil_Download_Springer_Free_Books_Dgn_Judul/221_Electrochemical Impedance Spectroscopy and its Applications.pdf\n",
            "./Hasil_Download_Springer_Free_Books_Dgn_Judul/222_Economics as Applied Ethics.pdf\n",
            "./Hasil_Download_Springer_Free_Books_Dgn_Judul/223_Electronics for Embedded Systems.pdf\n",
            "./Hasil_Download_Springer_Free_Books_Dgn_Judul/224_Concise Guide to Software Engineering.pdf\n",
            "./Hasil_Download_Springer_Free_Books_Dgn_Judul/225_Fundamentals of Multimedia.pdf\n",
            "./Hasil_Download_Springer_Free_Books_Dgn_Judul/226_Logistics.pdf\n",
            "./Hasil_Download_Springer_Free_Books_Dgn_Judul/227_Group Theory Applied to Chemistry.pdf\n",
            "./Hasil_Download_Springer_Free_Books_Dgn_Judul/228_The Psychology of Social Status.pdf\n",
            "./Hasil_Download_Springer_Free_Books_Dgn_Judul/229_A Modern Introduction to Probability and Statistics.pdf\n",
            "./Hasil_Download_Springer_Free_Books_Dgn_Judul/230_Complex Analysis.pdf\n",
            "./Hasil_Download_Springer_Free_Books_Dgn_Judul/231_Food Chemistry.pdf\n",
            "./Hasil_Download_Springer_Free_Books_Dgn_Judul/232_Exam Survival Guide: Physical Chemistry.pdf\n",
            "./Hasil_Download_Springer_Free_Books_Dgn_Judul/233_The Python Workbook.pdf\n",
            "./Hasil_Download_Springer_Free_Books_Dgn_Judul/234_Practical Electrical Engineering.pdf\n",
            "./Hasil_Download_Springer_Free_Books_Dgn_Judul/235_Strategic Retail Management.pdf\n",
            "./Hasil_Download_Springer_Free_Books_Dgn_Judul/236_Food Analysis.pdf\n",
            "./Hasil_Download_Springer_Free_Books_Dgn_Judul/237_Psychoeducational Assessment and Report Writing.pdf\n",
            "./Hasil_Download_Springer_Free_Books_Dgn_Judul/238_Machine Learning in Medicine - a Complete Overview.pdf\n",
            "./Hasil_Download_Springer_Free_Books_Dgn_Judul/239_Evidence-Based Interventions for Children with Challenging Behavior.pdf\n",
            "./Hasil_Download_Springer_Free_Books_Dgn_Judul/240_Principles of Quantum Mechanics.pdf\n",
            "./Hasil_Download_Springer_Free_Books_Dgn_Judul/241_Recommender Systems.pdf\n",
            "./Hasil_Download_Springer_Free_Books_Dgn_Judul/242_Pharmaceutical Biotechnology.pdf\n",
            "./Hasil_Download_Springer_Free_Books_Dgn_Judul/243_Python Programming Fundamentals.pdf\n",
            "./Hasil_Download_Springer_Free_Books_Dgn_Judul/244_The Finite Element Method and Applications in Engineering Using ANSYS®.pdf\n",
            "./Hasil_Download_Springer_Free_Books_Dgn_Judul/245_Group Theory.pdf\n",
            "./Hasil_Download_Springer_Free_Books_Dgn_Judul/246_Object-Oriented Analysis, Design and Implementation.pdf\n",
            "./Hasil_Download_Springer_Free_Books_Dgn_Judul/247_Introduction to Embedded Systems.pdf\n",
            "./Hasil_Download_Springer_Free_Books_Dgn_Judul/248_Elementary Mechanics Using Matlab.pdf\n",
            "./Hasil_Download_Springer_Free_Books_Dgn_Judul/249_An Introduction to Biomechanics.pdf\n",
            "./Hasil_Download_Springer_Free_Books_Dgn_Judul/250_New Introduction to Multiple Time Series Analysis.pdf\n",
            "./Hasil_Download_Springer_Free_Books_Dgn_Judul/251_Introduction to Data Science.pdf\n",
            "./Hasil_Download_Springer_Free_Books_Dgn_Judul/252_Calculus With Applications.pdf\n",
            "./Hasil_Download_Springer_Free_Books_Dgn_Judul/253_An Introduction to Soil Mechanics.pdf\n",
            "./Hasil_Download_Springer_Free_Books_Dgn_Judul/254_Game Theory.pdf\n",
            "./Hasil_Download_Springer_Free_Books_Dgn_Judul/255_Fundamentals of Clinical Trials.pdf\n",
            "./Hasil_Download_Springer_Free_Books_Dgn_Judul/256_The Finite Volume Method in Computational Fluid Dynamics.pdf\n",
            "./Hasil_Download_Springer_Free_Books_Dgn_Judul/257_The ASCRS Textbook of Colon and Rectal Surgery.pdf\n",
            "./Hasil_Download_Springer_Free_Books_Dgn_Judul/258_Applied Predictive Modeling.pdf\n",
            "./Hasil_Download_Springer_Free_Books_Dgn_Judul/259_Introduction to Logic Circuits & Logic Design with VHDL .pdf\n",
            "./Hasil_Download_Springer_Free_Books_Dgn_Judul/260_Sustainability Science.pdf\n",
            "./Hasil_Download_Springer_Free_Books_Dgn_Judul/261_Physical Chemistry from a Different Angle.pdf\n",
            "./Hasil_Download_Springer_Free_Books_Dgn_Judul/262_The Physics of Semiconductors.pdf\n",
            "./Hasil_Download_Springer_Free_Books_Dgn_Judul/263_Energy Harvesting and Energy Efficiency.pdf\n",
            "./Hasil_Download_Springer_Free_Books_Dgn_Judul/264_Python For ArcGIS.pdf\n",
            "./Hasil_Download_Springer_Free_Books_Dgn_Judul/265_Statics and Mechanics of Structures.pdf\n",
            "./Hasil_Download_Springer_Free_Books_Dgn_Judul/266_Real Analysis.pdf\n",
            "./Hasil_Download_Springer_Free_Books_Dgn_Judul/267_MATLAB for Psychologists.pdf\n",
            "./Hasil_Download_Springer_Free_Books_Dgn_Judul/268_Physical Asset Management.pdf\n",
            "./Hasil_Download_Springer_Free_Books_Dgn_Judul/269_Essentials of Food Science.pdf\n",
            "./Hasil_Download_Springer_Free_Books_Dgn_Judul/270_Quantum Mechanics.pdf\n",
            "./Hasil_Download_Springer_Free_Books_Dgn_Judul/271_Probability Theory.pdf\n",
            "./Hasil_Download_Springer_Free_Books_Dgn_Judul/272_Concise Guide to Databases.pdf\n",
            "./Hasil_Download_Springer_Free_Books_Dgn_Judul/273_Digital Image Processing.pdf\n",
            "./Hasil_Download_Springer_Free_Books_Dgn_Judul/274_Chemical and Bioprocess Engineering.pdf\n",
            "./Hasil_Download_Springer_Free_Books_Dgn_Judul/275_Transmission Electron Microscopy.pdf\n",
            "./Hasil_Download_Springer_Free_Books_Dgn_Judul/276_Guide to Computer Network Security.pdf\n",
            "./Hasil_Download_Springer_Free_Books_Dgn_Judul/277_Introduction to Law.pdf\n",
            "./Hasil_Download_Springer_Free_Books_Dgn_Judul/278_Advanced Quantum Mechanics.pdf\n",
            "./Hasil_Download_Springer_Free_Books_Dgn_Judul/279_Bayesian Essentials with R.pdf\n",
            "./Hasil_Download_Springer_Free_Books_Dgn_Judul/280_Robotics, Vision and Control.pdf\n",
            "./Hasil_Download_Springer_Free_Books_Dgn_Judul/281_Applied Chemistry.pdf\n",
            "./Hasil_Download_Springer_Free_Books_Dgn_Judul/282_Advanced Organic Chemistry.pdf\n",
            "./Hasil_Download_Springer_Free_Books_Dgn_Judul/283_Advanced Organic Chemistry.pdf\n",
            "./Hasil_Download_Springer_Free_Books_Dgn_Judul/284_International Humanitarian Action.pdf\n",
            "./Hasil_Download_Springer_Free_Books_Dgn_Judul/285_Breast Cancer.pdf\n",
            "./Hasil_Download_Springer_Free_Books_Dgn_Judul/286_Travel Marketing, Tourism Economics and the Airline Product.pdf\n",
            "./Hasil_Download_Springer_Free_Books_Dgn_Judul/287_Electronic Commerce 2018.pdf\n",
            "./Hasil_Download_Springer_Free_Books_Dgn_Judul/288_Disability and Vocational Rehabilitation in Rural Settings.pdf\n",
            "./Hasil_Download_Springer_Free_Books_Dgn_Judul/289_Teaching Medicine and Medical Ethics Using Popular Culture.pdf\n",
            "./Hasil_Download_Springer_Free_Books_Dgn_Judul/290_Market Research.pdf\n",
            "./Hasil_Download_Springer_Free_Books_Dgn_Judul/291_Scanning Electron Microscopy and X-Ray Microanalysis.pdf\n",
            "./Hasil_Download_Springer_Free_Books_Dgn_Judul/292_ArcGIS for Environmental and Water Issues.pdf\n",
            "./Hasil_Download_Springer_Free_Books_Dgn_Judul/293_Physics from Symmetry.pdf\n",
            "./Hasil_Download_Springer_Free_Books_Dgn_Judul/294_Communication and Bioethics at the End of Life.pdf\n",
            "./Hasil_Download_Springer_Free_Books_Dgn_Judul/295_Foundations of Programming Languages.pdf\n",
            "./Hasil_Download_Springer_Free_Books_Dgn_Judul/296_Problems in Classical Electromagnetism.pdf\n",
            "./Hasil_Download_Springer_Free_Books_Dgn_Judul/297_Polymer Chemistry.pdf\n",
            "./Hasil_Download_Springer_Free_Books_Dgn_Judul/298_Probability and Statistics for Computer Science.pdf\n",
            "./Hasil_Download_Springer_Free_Books_Dgn_Judul/299_Empathetic Space on Screen.pdf\n",
            "./Hasil_Download_Springer_Free_Books_Dgn_Judul/300_Political Social Work.pdf\n",
            "./Hasil_Download_Springer_Free_Books_Dgn_Judul/301_Introductory Quantum Mechanics.pdf\n",
            "./Hasil_Download_Springer_Free_Books_Dgn_Judul/302_Guide to Competitive Programming.pdf\n",
            "./Hasil_Download_Springer_Free_Books_Dgn_Judul/303_Introduction to Artificial Intelligence.pdf\n",
            "./Hasil_Download_Springer_Free_Books_Dgn_Judul/304_Bioinformatics for Evolutionary Biologists.pdf\n",
            "./Hasil_Download_Springer_Free_Books_Dgn_Judul/305_Concepts, Methods and Practical Applications in Applied Demography.pdf\n",
            "./Hasil_Download_Springer_Free_Books_Dgn_Judul/306_Introduction to Deep Learning.pdf\n",
            "./Hasil_Download_Springer_Free_Books_Dgn_Judul/307_Energy and the Wealth of Nations.pdf\n",
            "./Hasil_Download_Springer_Free_Books_Dgn_Judul/308_A Beginner's Guide to Scala, Object Orientation and Functional Programming.pdf\n",
            "./Hasil_Download_Springer_Free_Books_Dgn_Judul/309_Lessons on Synthetic Bioarchitectures.pdf\n",
            "./Hasil_Download_Springer_Free_Books_Dgn_Judul/310_Managing Sustainable Business.pdf\n",
            "./Hasil_Download_Springer_Free_Books_Dgn_Judul/311_Engineering Mechanics 2.pdf\n",
            "./Hasil_Download_Springer_Free_Books_Dgn_Judul/312_Fundamentals of Business Process Management.pdf\n",
            "./Hasil_Download_Springer_Free_Books_Dgn_Judul/313_Clinical Methods in Medical Family Therapy.pdf\n",
            "./Hasil_Download_Springer_Free_Books_Dgn_Judul/314_Guide to Scientific Computing in C++.pdf\n",
            "./Hasil_Download_Springer_Free_Books_Dgn_Judul/315_Motivation and Action .pdf\n",
            "./Hasil_Download_Springer_Free_Books_Dgn_Judul/316_Perspectives on Elderly Crime and Victimization.pdf\n",
            "./Hasil_Download_Springer_Free_Books_Dgn_Judul/317_Knowledge Management.pdf\n",
            "./Hasil_Download_Springer_Free_Books_Dgn_Judul/318_An Introduction to Zooarchaeology.pdf\n",
            "./Hasil_Download_Springer_Free_Books_Dgn_Judul/319_Abstract Algebra.pdf\n",
            "./Hasil_Download_Springer_Free_Books_Dgn_Judul/320_Criminal Justice and Mental Health.pdf\n",
            "./Hasil_Download_Springer_Free_Books_Dgn_Judul/321_Philosophy of Race.pdf\n",
            "./Hasil_Download_Springer_Free_Books_Dgn_Judul/322_Of Cigarettes, High Heels, and Other Interesting Things.pdf\n",
            "./Hasil_Download_Springer_Free_Books_Dgn_Judul/323_Applied Bioinformatics.pdf\n",
            "./Hasil_Download_Springer_Free_Books_Dgn_Judul/324_Linear Algebra and Analytic Geometry for Physical Sciences.pdf\n",
            "./Hasil_Download_Springer_Free_Books_Dgn_Judul/325_Building Energy Modeling with OpenStudio.pdf\n",
            "./Hasil_Download_Springer_Free_Books_Dgn_Judul/326_Customer Relationship Management.pdf\n",
            "./Hasil_Download_Springer_Free_Books_Dgn_Judul/327_The A-Z of the PhD Trajectory.pdf\n",
            "./Hasil_Download_Springer_Free_Books_Dgn_Judul/328_Strategic Human Resource Management and Employment Relations.pdf\n",
            "./Hasil_Download_Springer_Free_Books_Dgn_Judul/329_Applied Linear Algebra.pdf\n",
            "./Hasil_Download_Springer_Free_Books_Dgn_Judul/330_Witnessing Torture.pdf\n",
            "./Hasil_Download_Springer_Free_Books_Dgn_Judul/331_Proofs from THE BOOK.pdf\n",
            "./Hasil_Download_Springer_Free_Books_Dgn_Judul/332_Introduction to General Relativity.pdf\n",
            "./Hasil_Download_Springer_Free_Books_Dgn_Judul/333_Introduction to Particle and Astroparticle Physics.pdf\n",
            "./Hasil_Download_Springer_Free_Books_Dgn_Judul/334_Fundamentals of Java Programming.pdf\n",
            "./Hasil_Download_Springer_Free_Books_Dgn_Judul/335_Optimization of Process Flowsheets through Metaheuristic Techniques .pdf\n",
            "./Hasil_Download_Springer_Free_Books_Dgn_Judul/336_Robotics.pdf\n",
            "./Hasil_Download_Springer_Free_Books_Dgn_Judul/337_Business Ethics - A Philosophical and Behavioral Approach.pdf\n",
            "./Hasil_Download_Springer_Free_Books_Dgn_Judul/338_A First Introduction to Quantum Physics.pdf\n",
            "./Hasil_Download_Springer_Free_Books_Dgn_Judul/339_Argumentation Theory: A Pragma-Dialectical Perspective.pdf\n",
            "./Hasil_Download_Springer_Free_Books_Dgn_Judul/340_Logical Foundations of Cyber-Physical Systems.pdf\n",
            "./Hasil_Download_Springer_Free_Books_Dgn_Judul/341_Off-Grid Electrical Systems in Developing Countries.pdf\n",
            "./Hasil_Download_Springer_Free_Books_Dgn_Judul/342_Entertainment Science.pdf\n",
            "./Hasil_Download_Springer_Free_Books_Dgn_Judul/343_Physics of Oscillations and Waves.pdf\n",
            "./Hasil_Download_Springer_Free_Books_Dgn_Judul/344_Introduction to Programming with Fortran.pdf\n",
            "./Hasil_Download_Springer_Free_Books_Dgn_Judul/345_Fundamentals of Solid State Engineering.pdf\n",
            "./Hasil_Download_Springer_Free_Books_Dgn_Judul/346_Introduction to Digital Systems Design.pdf\n",
            "./Hasil_Download_Springer_Free_Books_Dgn_Judul/347_Neural Networks and Deep Learning.pdf\n",
            "./Hasil_Download_Springer_Free_Books_Dgn_Judul/348_Data Science and Predictive Analytics.pdf\n",
            "./Hasil_Download_Springer_Free_Books_Dgn_Judul/349_Systems Programming in Unix atau Linux.pdf\n",
            "./Hasil_Download_Springer_Free_Books_Dgn_Judul/350_Analytical Corporate Finance.pdf\n",
            "./Hasil_Download_Springer_Free_Books_Dgn_Judul/351_Fraud and Corruption.pdf\n",
            "./Hasil_Download_Springer_Free_Books_Dgn_Judul/352_Conferencing and Presentation English for Young Academics.pdf\n",
            "./Hasil_Download_Springer_Free_Books_Dgn_Judul/353_A Concise Guide to Market Research.pdf\n",
            "./Hasil_Download_Springer_Free_Books_Dgn_Judul/354_Global Supply Chain and Operations Management.pdf\n",
            "./Hasil_Download_Springer_Free_Books_Dgn_Judul/355_Introduction to Parallel Computing.pdf\n",
            "./Hasil_Download_Springer_Free_Books_Dgn_Judul/356_Mathematical Logic.pdf\n",
            "./Hasil_Download_Springer_Free_Books_Dgn_Judul/357_Stability and Control of Linear Systems.pdf\n",
            "./Hasil_Download_Springer_Free_Books_Dgn_Judul/358_Introduction to Formal Philosophy.pdf\n",
            "./Hasil_Download_Springer_Free_Books_Dgn_Judul/359_Analysis for Computer Scientists.pdf\n",
            "./Hasil_Download_Springer_Free_Books_Dgn_Judul/360_International Business Management.pdf\n",
            "./Hasil_Download_Springer_Free_Books_Dgn_Judul/361_Research Methods for the Digital Humanities.pdf\n",
            "./Hasil_Download_Springer_Free_Books_Dgn_Judul/362_Introductory Computer Forensics.pdf\n",
            "./Hasil_Download_Springer_Free_Books_Dgn_Judul/363_Control Engineering.pdf\n",
            "./Hasil_Download_Springer_Free_Books_Dgn_Judul/364_Control Engineering: MATLAB Exercises.pdf\n",
            "./Hasil_Download_Springer_Free_Books_Dgn_Judul/365_ENZYMES: Catalysis, Kinetics and Mechanisms.pdf\n",
            "./Hasil_Download_Springer_Free_Books_Dgn_Judul/366_Automatic Control with Experiments.pdf\n",
            "./Hasil_Download_Springer_Free_Books_Dgn_Judul/367_Internet of Things From Hype to Reality.pdf\n",
            "./Hasil_Download_Springer_Free_Books_Dgn_Judul/368_Quantitative Methods for the Social Sciences.pdf\n",
            "./Hasil_Download_Springer_Free_Books_Dgn_Judul/369_A Pythagorean Introduction to Number Theory.pdf\n",
            "./Hasil_Download_Springer_Free_Books_Dgn_Judul/370_Philosophical and Mathematical Logic.pdf\n",
            "./Hasil_Download_Springer_Free_Books_Dgn_Judul/371_Structural Dynamics.pdf\n",
            "./Hasil_Download_Springer_Free_Books_Dgn_Judul/372_Plant Physiology, Development and Metabolism.pdf\n",
            "./Hasil_Download_Springer_Free_Books_Dgn_Judul/373_Quantum Mechanics for Pedestrians 1.pdf\n",
            "./Hasil_Download_Springer_Free_Books_Dgn_Judul/374_Plant Anatomy.pdf\n",
            "./Hasil_Download_Springer_Free_Books_Dgn_Judul/375_Quantum Mechanics for Pedestrians 2.pdf\n",
            "./Hasil_Download_Springer_Free_Books_Dgn_Judul/376_Excel Data Analysis.pdf\n",
            "./Hasil_Download_Springer_Free_Books_Dgn_Judul/377_Quick Start Guide to VHDL.pdf\n",
            "./Hasil_Download_Springer_Free_Books_Dgn_Judul/378_Java in Two Semesters.pdf\n",
            "./Hasil_Download_Springer_Free_Books_Dgn_Judul/379_Managing Media and Digital Organizations.pdf\n",
            "./Hasil_Download_Springer_Free_Books_Dgn_Judul/380_Media and Digital Management.pdf\n",
            "./Hasil_Download_Springer_Free_Books_Dgn_Judul/381_An Anthology of London in Literature, 1558-1914.pdf\n",
            "./Hasil_Download_Springer_Free_Books_Dgn_Judul/382_Astronautics.pdf\n",
            "./Hasil_Download_Springer_Free_Books_Dgn_Judul/383_Perceptual Organization.pdf\n",
            "./Hasil_Download_Springer_Free_Books_Dgn_Judul/384_Research Methods for Social Justice and Equity in Education.pdf\n",
            "./Hasil_Download_Springer_Free_Books_Dgn_Judul/385_Educational Technology.pdf\n",
            "./Hasil_Download_Springer_Free_Books_Dgn_Judul/386_Quick Start Guide to Verilog.pdf\n",
            "./Hasil_Download_Springer_Free_Books_Dgn_Judul/387_Spine Surgery.pdf\n",
            "./Hasil_Download_Springer_Free_Books_Dgn_Judul/388_Introduction to Logic Circuits & Logic Design with VHDL .pdf\n",
            "./Hasil_Download_Springer_Free_Books_Dgn_Judul/389_Social Justice Theory and Practice for Social Work.pdf\n",
            "./Hasil_Download_Springer_Free_Books_Dgn_Judul/390_School Leadership and Educational Change in Singapore.pdf\n",
            "./Hasil_Download_Springer_Free_Books_Dgn_Judul/391_Digital Business Models.pdf\n",
            "./Hasil_Download_Springer_Free_Books_Dgn_Judul/392_Introduction to Logic Circuits & Logic Design with Verilog.pdf\n",
            "./Hasil_Download_Springer_Free_Books_Dgn_Judul/393_Pharmaceutical Biotechnology.pdf\n",
            "./Hasil_Download_Springer_Free_Books_Dgn_Judul/394_Mapping Global Theatre Histories.pdf\n",
            "./Hasil_Download_Springer_Free_Books_Dgn_Judul/395_Social Marketing in Action.pdf\n",
            "./Hasil_Download_Springer_Free_Books_Dgn_Judul/396_Analyzing Qualitative Data with MAXQDA.pdf\n",
            "./Hasil_Download_Springer_Free_Books_Dgn_Judul/397_Handbook of Evolutionary Research in Archaeology.pdf\n",
            "./Hasil_Download_Springer_Free_Books_Dgn_Judul/398_Evidence-Based Practice in Clinical Social Work.pdf\n",
            "./Hasil_Download_Springer_Free_Books_Dgn_Judul/399_Foundations of Behavioral Health.pdf\n",
            "./Hasil_Download_Springer_Free_Books_Dgn_Judul/400_Social Psychology in Action.pdf\n",
            "./Hasil_Download_Springer_Free_Books_Dgn_Judul/401_Essentials of Business Analytics.pdf\n",
            "./Hasil_Download_Springer_Free_Books_Dgn_Judul/402_A Course in Rasch Measurement Theory.pdf\n",
            "./Hasil_Download_Springer_Free_Books_Dgn_Judul/403_Multimedia Big Data Computing for IoT Applications.pdf\n",
            "./Hasil_Download_Springer_Free_Books_Dgn_Judul/404_Policing and Minority Communities.pdf\n",
            "./Hasil_Download_Springer_Free_Books_Dgn_Judul/405_A Beginners Guide to Python 3 Programming.pdf\n",
            "./Hasil_Download_Springer_Free_Books_Dgn_Judul/406_Advanced Guide to Python 3 Programming.pdf\n",
            "./Hasil_Download_Springer_Free_Books_Dgn_Judul/407_Literature and Medicine.pdf\n",
            "./Hasil_Download_Springer_Free_Books_Dgn_Judul/408_Food Fraud Prevention.pdf\n"
          ],
          "name": "stdout"
        }
      ]
    },
    {
      "cell_type": "code",
      "metadata": {
        "id": "gjllbbmW9x7G",
        "colab_type": "code",
        "colab": {}
      },
      "source": [
        "#Done :D"
      ],
      "execution_count": 0,
      "outputs": []
    }
  ]
}